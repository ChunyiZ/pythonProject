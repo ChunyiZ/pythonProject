{
 "cells": [
  {
   "cell_type": "code",
   "execution_count": null,
   "metadata": {},
   "outputs": [],
   "source": [
    "#rainfall_mi is a string that contains the average number of inches of rainfall in Michigan \n",
    "#for every month (in inches) with every month separated by a comma. \n",
    "#Write code to compute the number of months that have more than 3 inches of rainfall. \n",
    "#Store the result in the variable num_rainy_months. In other words, count the number of items with values > 3.0.\n",
    "\n",
    "rainfall_mi = \"1.65, 1.46, 2.05, 3.03, 3.35, 3.46, 2.83, 3.23, 3.5, 2.52, 2.8, 1.85\"\n",
    "\n",
    "rain = rainfall_mi.split(\",\")\n",
    "rain_float = [float(i) for i in rain]\n",
    "num_rainy_months = 0\n",
    "for y in rain_float:\n",
    "    if y > 3:\n",
    "        num_rainy_months +=1\n",
    "\n",
    "\n"
   ]
  },
  {
   "cell_type": "code",
   "execution_count": null,
   "metadata": {},
   "outputs": [],
   "source": [
    "#The variable sentence stores a string. \n",
    "#Write code to determine how many words in sentence start and end with the same letter, including one-letter words. \n",
    "#Store the result in the variable same_letter_count.\n",
    "\n",
    "sentence = \"students flock to the arb for a variety of outdoor activities such as jogging and picnicking\"\n",
    "sentencelist = sentence.split()\n",
    "same_letter_count = 0\n",
    "for i in sentencelist:\n",
    "    if i[0] ==i[-1]:\n",
    "        same_letter_count +=1\n"
   ]
  },
  {
   "cell_type": "code",
   "execution_count": null,
   "metadata": {},
   "outputs": [],
   "source": [
    "#Write code to count the number of strings in list items that have the character w in it. \n",
    "#Assign that number to the variable acc_num.\n",
    "\n",
    "#HINT 1: Use the accumulation pattern!\n",
    "\n",
    "#HINT 2: the in operator checks whether a substring is present in a string.\n",
    "\n",
    "items = [\"whirring\", \"wow!\", \"calendar\", \"wry\", \"glass\", \"\", \"llama\",\"tumultuous\",\"owing\"]\n",
    "acc_num = 0 \n",
    "for i in items:\n",
    "    if \"w\" in i:\n",
    "        acc_num+=1\n"
   ]
  },
  {
   "cell_type": "code",
   "execution_count": null,
   "metadata": {},
   "outputs": [],
   "source": [
    "#Write code that counts the number of words in sentence that contain either an “a” or an “e”. \n",
    "#Store the result in the variable num_a_or_e.\n",
    "\n",
    "#Note 1: be sure to not double-count words that contain both an a and an e.\n",
    "\n",
    "#HINT 1: Use the in operator.\n",
    "\n",
    "#HINT 2: You can either use or or elif.\n",
    "sentence = \"python is a high level general purpose programming language that can be applied to many different classes of problems.\"\n",
    "sentencelist = sentence.split()\n",
    "num_a_or_e = 0\n",
    "num_a_and_e = 0\n",
    "for i in sentencelist:\n",
    "    if (\"a\" in i)  or (\"e\" in i):\n",
    "        num_a_or_e+=1\n",
    "\n",
    "\n",
    "   \n",
    "\n",
    "\n",
    "\n",
    "\n",
    "\n"
   ]
  },
  {
   "cell_type": "code",
   "execution_count": null,
   "metadata": {},
   "outputs": [
    {
     "ename": "TypeError",
     "evalue": "'list' object is not callable",
     "output_type": "error",
     "traceback": [
      "\u001b[0;31m---------------------------------------------------------------------------\u001b[0m",
      "\u001b[0;31mTypeError\u001b[0m                                 Traceback (most recent call last)",
      "Cell \u001b[0;32mIn[22], line 8\u001b[0m\n\u001b[1;32m      5\u001b[0m s \u001b[38;5;241m=\u001b[39m \u001b[38;5;124m\"\u001b[39m\u001b[38;5;124msinging in the rain and playing in the rain are two entirely different situations but both can be fun\u001b[39m\u001b[38;5;124m\"\u001b[39m\n\u001b[1;32m      6\u001b[0m vowels \u001b[38;5;241m=\u001b[39m [\u001b[38;5;124m'\u001b[39m\u001b[38;5;124ma\u001b[39m\u001b[38;5;124m'\u001b[39m,\u001b[38;5;124m'\u001b[39m\u001b[38;5;124me\u001b[39m\u001b[38;5;124m'\u001b[39m,\u001b[38;5;124m'\u001b[39m\u001b[38;5;124mi\u001b[39m\u001b[38;5;124m'\u001b[39m,\u001b[38;5;124m'\u001b[39m\u001b[38;5;124mo\u001b[39m\u001b[38;5;124m'\u001b[39m,\u001b[38;5;124m'\u001b[39m\u001b[38;5;124mu\u001b[39m\u001b[38;5;124m'\u001b[39m]\n\u001b[0;32m----> 8\u001b[0m ss\u001b[38;5;241m=\u001b[39m\u001b[38;5;28;43mlist\u001b[39;49m\u001b[43m(\u001b[49m\u001b[43ms\u001b[49m\u001b[43m)\u001b[49m\n\u001b[1;32m      9\u001b[0m num_vowels \u001b[38;5;241m=\u001b[39m \u001b[38;5;241m0\u001b[39m\n\u001b[1;32m     10\u001b[0m \u001b[38;5;28;01mfor\u001b[39;00m i \u001b[38;5;129;01min\u001b[39;00m ss:\n",
      "\u001b[0;31mTypeError\u001b[0m: 'list' object is not callable"
     ]
    }
   ],
   "source": [
    "#Write code that will count the number of vowels in the sentence s and assign the result to the variable num_vowels. \n",
    "#For this problem, vowels are only a, e, i, o, and u. \n",
    "#Hint: use the in operator with vowels.\n",
    "\n",
    "s = \"singing in the rain and playing in the rain are two entirely different situations but both can be fun\"\n",
    "vowels = ['a','e','i','o','u']\n",
    "\n",
    "ss=list(s)\n",
    "num_vowels = 0\n",
    "for i in ss:\n",
    "    for y in vowels:\n",
    "        if y in i:\n",
    "            num_vowels+=1"
   ]
  },
  {
   "cell_type": "code",
   "execution_count": null,
   "metadata": {},
   "outputs": [],
   "source": [
    "s = \"singing in the rain and playing in the rain are two entirely different situations but both can be fun\"\n",
    "vowels = ['a','e','i','o','u']\n",
    "\n",
    "ss=list(s)\n",
    "num_vowels = 0\n",
    "\n",
    "for y in vowels:\n",
    "    for i in ss:\n",
    "        if y in i:\n",
    "            num_vowels+=1"
   ]
  },
  {
   "cell_type": "code",
   "execution_count": null,
   "metadata": {},
   "outputs": [],
   "source": [
    "#Below are a set of scores that students have received in the past semester. \n",
    "#Write code to determine how many are 90 or above and assign that result to the value a_scores.\n",
    "\n",
    "\n",
    "scores = \"67 80 90 78 93 20 79 89 96 97 92 88 79 68 58 90 98 100 79 74 83 88 80 86 85 70 90 100\"\n",
    "newscores = scores.split()\n",
    "for i in range(len(newscores)):\n",
    "   newscores[i]= int (newscores[i])\n",
    "print(newscores)\n",
    "a_scores = 0\n",
    "\n",
    "for y in newscores:\n",
    "   if y >=90:\n",
    "      a_scores+=1\n",
    "\n",
    "print(a_scores)\n",
    "\n"
   ]
  },
  {
   "cell_type": "code",
   "execution_count": null,
   "metadata": {},
   "outputs": [],
   "source": [
    "#Write code that uses the string stored in org and creates an acronym which is assigned to the variable acro. \n",
    "#Only the first letter of each word should be used, each letter in the acronym should be a capital letter, \n",
    "#and there should be nothing to separate the letters of the acronym. \n",
    "#Words that should not be included in the acronym are stored in the list stopwords. \n",
    "#For example, if org was assigned the string “hello to world” then the resulting acronym should be “HW”.\n",
    "\n",
    "stopwords = ['to', 'a', 'for', 'by', 'an', 'am', 'the', 'so', 'it', 'and', \"The\"]\n",
    "org = \"The organization for health, safety, and education\"\n",
    "acro1 = []\n",
    "acro = \"\"\n",
    "new_org = org.split()\n",
    "\n",
    "for i in new_org:\n",
    "    if i not in stopwords:\n",
    "        acro1.append(i[0].upper())\n",
    "\n",
    "for y in acro1:\n",
    "    acro = acro+y\n",
    "\n",
    "print(acro1)\n",
    "print(acro)"
   ]
  },
  {
   "cell_type": "code",
   "execution_count": null,
   "metadata": {},
   "outputs": [],
   "source": [
    "#Write code that uses the string stored in sent and creates an acronym which is assigned to the variable acro. \n",
    "#The first two letters of each word should be used, each letter in the acronym should be a capital letter, \n",
    "#and each element of the acronym should be separated by a “. ” (dot and space). \n",
    "#Words that should not be included in the acronym are stored in the list stopwords. \n",
    "#For example, if sent was assigned the string “height and ewok wonder” then the resulting acronym should be “HE. EW. WO”.\n",
    "\n",
    "\n",
    "stopwords = ['to', 'a', 'for', 'by', 'an', 'am', 'the', 'so', 'it', 'and', 'The']\n",
    "sent = \"The water earth and air are vital\"\n",
    "\n",
    "acro1 = []\n",
    "acro = \". \"\n",
    "new_sent = sent.split()\n",
    "\n",
    "for i in new_sent:\n",
    "    if i not in stopwords:\n",
    "        acro1.append(i[:2].upper())\n",
    "\n",
    "acro = acro.join(acro1)\n",
    "\n",
    "print(acro1)\n",
    "print(acro)\n",
    "\n"
   ]
  },
  {
   "cell_type": "code",
   "execution_count": null,
   "metadata": {},
   "outputs": [],
   "source": [
    "#A palindrome is a phrase that, if reversed, would read the exact same. \n",
    "#Write code that checks if p_phrase is a palindrome by reversing it and \n",
    "#then checking if the reversed version is equal to the original. \n",
    "#Assign the reversed version of p_phrase to the variable r_phrase so that we can check your work.\n",
    "\n",
    "p_phrase = \"was it a car or a cat I saw\"\n",
    "r_phrase = \"\"\n",
    "length = len(p_phrase)\n",
    "for i in range(len(p_phrase)):\n",
    "    r_phrase = r_phrase + p_phrase[len(p_phrase)-1-i]\n",
    "\n",
    "#quick method\n",
    "p_phrase = \"was it a car or a cat I saw\"\n",
    "r_phrase = p_phrase[::-1]\n",
    "print(r_phrase)"
   ]
  },
  {
   "cell_type": "code",
   "execution_count": null,
   "metadata": {},
   "outputs": [],
   "source": [
    "#Provided is a list of data about a store’s inventory where each item in the list represents the name of an item, \n",
    "#how much is in stock, and how much it costs. \n",
    "#Print out each item in the list with the same formatting, using the .format method (not string concatenation). \n",
    "#For example, the first print statment should read The store has 12 shoes, each for 29.99 USD.\n",
    "\n",
    "inventory = [\"shoes, 12, 29.99\", \"shirts, 20, 9.99\", \"sweatpants, 25, 15.00\", \"scarves, 13, 7.75\"]\n",
    "for temp in inventory:\n",
    "    temp = temp.split(',')  \n",
    "    item = temp[0]\n",
    "    quantity = temp[1]\n",
    "    amount = temp[2]\n",
    "    str1=\"The store has{} {}, each for{} USD.\"\n",
    "    str1=str1.format(quantity,item,amount)\n",
    "    print(str1)\n",
    "\n",
    "print(temp)"
   ]
  },
  {
   "cell_type": "code",
   "execution_count": null,
   "metadata": {},
   "outputs": [],
   "source": [
    "#Using the file school_prompt2.txt, find the number of characters in the file and assign that value to the variable num_char.\n",
    "fileread = open(\"school_prompt2.txt\", \"r\")\n",
    "content = fileread.read()\n",
    "num_char = len(content)\n"
   ]
  },
  {
   "cell_type": "code",
   "execution_count": null,
   "metadata": {},
   "outputs": [],
   "source": [
    "#Find the number of lines in the file, travel_plans2.txt, and assign it to the variable num_lines.\n",
    "fileread = open(\"travel_plans2.txt\", \"r\")\n",
    "content = fileread.readlines()\n",
    "num_lines = len(content)"
   ]
  },
  {
   "cell_type": "code",
   "execution_count": null,
   "metadata": {},
   "outputs": [],
   "source": [
    "#Create a string called first_forty that is comprised of the first 40 characters of emotion_words2.txt.\n",
    "fileread = open(\"emotion_words.txt\", \"r\")\n",
    "content = fileread.read()\n",
    "first_forty=content[:40]"
   ]
  },
  {
   "cell_type": "code",
   "execution_count": null,
   "metadata": {},
   "outputs": [],
   "source": [
    "#write file\n",
    "filename = \"squared_numbers.txt\"\n",
    "outfile = open(filename, \"w\")\n",
    "\n",
    "for number in range(1, 13):\n",
    "    square = number * number\n",
    "    outfile.write(str(square) + \"\\n\")\n",
    "\n",
    "outfile.close()\n",
    "infile = open(filename, \"r\")\n",
    "print(infile.read()[:10])\n",
    "infile.close()"
   ]
  },
  {
   "cell_type": "code",
   "execution_count": null,
   "metadata": {},
   "outputs": [],
   "source": [
    "#open file using with\n",
    "with open('mydata.txt', 'r') as md:\n",
    "    for line in md:\n",
    "        print(line)\n",
    "\n",
    " #same as below       \n",
    "md = open('mydata.txt', 'r')\n",
    "for line in md:\n",
    "    print(line)\n",
    "md.close()\n",
    "\n",
    "#Other recepies\n",
    "fname = \"yourfile.txt\"\n",
    "with open(fname, 'r') as fileref:         # step 1\n",
    "    lines = fileref.readlines()           # step 2\n",
    "    for lin in lines:                     # step 3\n",
    "        #some code that references the variable lin\n",
    "#some other code not relying on fileref   # step 4"
   ]
  },
  {
   "cell_type": "code",
   "execution_count": null,
   "metadata": {},
   "outputs": [],
   "source": [
    "#Write CSV data examples for bewlow\n",
    "olympians = [(\"John Aalberg\", 31, \"Cross Country Skiing\"),\n",
    "             (\"Minna Maarit Aalto\", 30, \"Sailing\"),\n",
    "             (\"Win Valdemar Aaltonen\", 54, \"Art Competitions\"),\n",
    "             (\"Wakako Abe\", 18, \"Cycling\")]\n",
    "\n",
    "outfile = open(\"reduced_olympics.csv\", \"w\")\n",
    "# output the header row\n",
    "outfile.write('Name,Age,Sport')\n",
    "outfile.write('\\n')\n",
    "# output each of the rows:\n",
    "for olympian in olympians:\n",
    "    row_string = '{},{},{}'.format(olympian[0], olympian[1], olympian[2])\n",
    "    outfile.write(row_string)\n",
    "    outfile.write('\\n')\n",
    "outfile.close()"
   ]
  },
  {
   "cell_type": "code",
   "execution_count": null,
   "metadata": {},
   "outputs": [],
   "source": [
    "# We have provided a file called emotion_words.txt that contains lines of words that describe emotions. Find the total number of words in the file and assign this value to the variable num_words.     \n",
    "    \n",
    "    \n",
    "num_words = 0\n",
    "with open(\"emotion_words.txt\", 'r') as file:\n",
    "    for line in file:\n",
    "        num_words += len(line.split())\n",
    "        print(line.split())\n",
    "print(\"number of words : \", num_words) "
   ]
  },
  {
   "cell_type": "code",
   "execution_count": null,
   "metadata": {},
   "outputs": [],
   "source": [
    "# Assign to the variable num_lines the number of lines in the file school_prompt.txt. \n",
    "#'Writing essays for school can be difficult but\\n', \n",
    "#'many students find that by researching their topic that they\\n', \n",
    "#'have more to say and are better informed. Here are the university\\n', \n",
    "#'we require many undergraduate students to take a first year writing requirement\\n', \n",
    "#'so that they can\\n', 'have a solid foundation for their writing skills. This comes\\n', \n",
    "#'in handy for many students.\\n', 'Different schools have different requirements, but everyone uses\\n', \n",
    "#'writing at some point in their academic career, be it essays, research papers,\\n', \n",
    "#'technical write ups, or scripts.\\n']\n",
    "\n",
    "num_lines=0\n",
    "with open('school_prompt.txt','r') as op:\n",
    "    for i in op:\n",
    "        num_lines+=1\n",
    "    print(num_lines)\n",
    "\n",
    "# Different options\n",
    "file = open('school_prompt.txt', 'r')\n",
    "data = file.readlines()\n",
    "num_lines = len(data)"
   ]
  },
  {
   "cell_type": "code",
   "execution_count": null,
   "metadata": {},
   "outputs": [],
   "source": [
    "# Assign to the variable num_lines the number of lines in the file school_prompt.txt. \n",
    "file=open('school_prompt.txt', 'r')\n",
    "data=file.readlines()\n",
    "three = []\n",
    "for i in data:\n",
    "    k = i.split()\n",
    "    three.append(k[2])\n",
    "\n",
    "print(data)  \n",
    "print(three)\n"
   ]
  },
  {
   "cell_type": "code",
   "execution_count": null,
   "metadata": {},
   "outputs": [],
   "source": [
    "#Challenge: Create a list called emotions that contains the first word of every line in emotion_words.txt.\n",
    "file=open('emotion_words.txt', 'r')\n",
    "data=file.readlines()\n",
    "emotions = []\n",
    "for i in data:\n",
    "    k = i.split()\n",
    "    emotions.append(k[0])\n",
    "print(data)\n",
    "print(emotions)"
   ]
  },
  {
   "cell_type": "code",
   "execution_count": null,
   "metadata": {},
   "outputs": [],
   "source": [
    "#Assign the first 33 characters from the textfile, travel_plans.txt to the variable first_chars.\n",
    "fileread = open(\"travel_plans.txt\", \"r\")\n",
    "content = fileread.read()\n",
    "first_chars=content[:33]\n",
    "print(content)\n",
    "print(first_chars)"
   ]
  },
  {
   "cell_type": "code",
   "execution_count": null,
   "metadata": {},
   "outputs": [],
   "source": [
    "#Challenge: Using the file school_prompt.txt, if the character ‘p’ is in a word, \n",
    "#then add the word to a list called p_words.\n",
    "file=open('school_prompt.txt', 'r')\n",
    "data=file.readlines()\n",
    "p_words=[]\n",
    "for i in data:\n",
    "    k = i.split()\n",
    "    for y in k:\n",
    "        if 'p' in y:\n",
    "            p_words.append(y)\n",
    "print(data)\n",
    "print(p_words)"
   ]
  },
  {
   "cell_type": "code",
   "execution_count": null,
   "metadata": {},
   "outputs": [
    {
     "name": "stdout",
     "output_type": "stream",
     "text": [
      "{'Manuel': 4, 'Lochte': 12, 'Adrian': 7, 'Ledecky': 5, 'Dirado': 4, 'Phelps': 23}\n",
      "{'Italy': 12, 'USA': 33, 'Brazil': 15, 'China': 27, 'Spain': 21, 'Canada': 22, 'Argentina': 8, 'England': 29}\n"
     ]
    },
    {
     "ename": "TypeError",
     "evalue": "'list' object is not callable",
     "output_type": "error",
     "traceback": [
      "\u001b[0;31m---------------------------------------------------------------------------\u001b[0m",
      "\u001b[0;31mTypeError\u001b[0m                                 Traceback (most recent call last)",
      "Cell \u001b[0;32mIn[16], line 17\u001b[0m\n\u001b[1;32m     13\u001b[0m \u001b[38;5;66;03m#Create a list of the countries that are in the dictionary golds, and assign that list to the variable name countries.\u001b[39;00m\n\u001b[1;32m     14\u001b[0m \u001b[38;5;66;03m#Do not hard code this.\u001b[39;00m\n\u001b[1;32m     16\u001b[0m golds \u001b[38;5;241m=\u001b[39m {\u001b[38;5;124m\"\u001b[39m\u001b[38;5;124mItaly\u001b[39m\u001b[38;5;124m\"\u001b[39m: \u001b[38;5;241m12\u001b[39m, \u001b[38;5;124m\"\u001b[39m\u001b[38;5;124mUSA\u001b[39m\u001b[38;5;124m\"\u001b[39m: \u001b[38;5;241m33\u001b[39m, \u001b[38;5;124m\"\u001b[39m\u001b[38;5;124mBrazil\u001b[39m\u001b[38;5;124m\"\u001b[39m: \u001b[38;5;241m15\u001b[39m, \u001b[38;5;124m\"\u001b[39m\u001b[38;5;124mChina\u001b[39m\u001b[38;5;124m\"\u001b[39m: \u001b[38;5;241m27\u001b[39m, \u001b[38;5;124m\"\u001b[39m\u001b[38;5;124mSpain\u001b[39m\u001b[38;5;124m\"\u001b[39m: \u001b[38;5;241m19\u001b[39m, \u001b[38;5;124m\"\u001b[39m\u001b[38;5;124mCanada\u001b[39m\u001b[38;5;124m\"\u001b[39m: \u001b[38;5;241m22\u001b[39m, \u001b[38;5;124m\"\u001b[39m\u001b[38;5;124mArgentina\u001b[39m\u001b[38;5;124m\"\u001b[39m: \u001b[38;5;241m8\u001b[39m, \u001b[38;5;124m\"\u001b[39m\u001b[38;5;124mEngland\u001b[39m\u001b[38;5;124m\"\u001b[39m: \u001b[38;5;241m29\u001b[39m}\n\u001b[0;32m---> 17\u001b[0m countries \u001b[38;5;241m=\u001b[39m \u001b[38;5;28;43mlist\u001b[39;49m\u001b[43m(\u001b[49m\u001b[43mgolds\u001b[49m\u001b[38;5;241;43m.\u001b[39;49m\u001b[43mkeys\u001b[49m\u001b[43m(\u001b[49m\u001b[43m)\u001b[49m\u001b[43m)\u001b[49m\n\u001b[1;32m     18\u001b[0m \u001b[38;5;28mprint\u001b[39m(countries)\n\u001b[1;32m     20\u001b[0m \u001b[38;5;66;03m#Provided is the dictionary, medal_count, which lists countries and their respective medal count at the halfway point in the 2016 Rio Olympics. \u001b[39;00m\n\u001b[1;32m     21\u001b[0m \u001b[38;5;66;03m#Using dictionary mechanics, assign the medal count value for \"Belarus\" to the variable belarus. \u001b[39;00m\n\u001b[1;32m     22\u001b[0m \u001b[38;5;66;03m#Do not hardcode this.\u001b[39;00m\n",
      "\u001b[0;31mTypeError\u001b[0m: 'list' object is not callable"
     ]
    }
   ],
   "source": [
    "#Given the dictionary swimmers, add an additional key-value pair to the dictionary with \"Phelps\" as the key and the integer 23 as the value. Do not rewrite the entire dictionary.\n",
    "swimmers = {'Manuel':4, 'Lochte':12, 'Adrian':7, 'Ledecky':5, 'Dirado':4}\n",
    "swimmers ['Phelps'] =23\n",
    "print(swimmers)\n",
    "\n",
    "#The dictionary golds contains information about how many gold medals each country won in the 2016 Olympics. \n",
    "#But today, Spain won 2 more gold medals. Update golds to reflect this information.\n",
    "\n",
    "golds = {\"Italy\": 12, \"USA\": 33, \"Brazil\": 15, \"China\": 27, \"Spain\": 19, \"Canada\": 22, \"Argentina\": 8, \"England\": 29}\n",
    "golds['Spain'] =21\n",
    "print(golds)\n",
    "\n",
    "#Create a list of the countries that are in the dictionary golds, and assign that list to the variable name countries.\n",
    "#Do not hard code this.\n",
    "\n",
    "golds = {\"Italy\": 12, \"USA\": 33, \"Brazil\": 15, \"China\": 27, \"Spain\": 19, \"Canada\": 22, \"Argentina\": 8, \"England\": 29}\n",
    "countries = list(golds.keys())\n",
    "print(countries)\n",
    "\n",
    "#Provided is the dictionary, medal_count, which lists countries and their respective medal count at the halfway point in the 2016 Rio Olympics. \n",
    "#Using dictionary mechanics, assign the medal count value for \"Belarus\" to the variable belarus. \n",
    "#Do not hardcode this.\n",
    "\n",
    "medal_count = {'United States': 70, 'Great Britain':38, 'China':45, 'Russia':30, 'Germany':17, 'Italy':22, 'France': 22, 'Japan':26, 'Australia':22, 'South Korea':14, 'Hungary':12, 'Netherlands':10, 'Spain':5, 'New Zealand':8, 'Canada':13, 'Kazakhstan':8, 'Colombia':4, 'Switzerland':5, 'Belgium':4, 'Thailand':4, 'Croatia':3, 'Iran':3, 'Jamaica':3, 'South Africa':7, 'Sweden':6, 'Denmark':7, 'North Korea':6, 'Kenya':4, 'Brazil':7, 'Belarus':4, 'Cuba':5, 'Poland':4, 'Romania':4, 'Slovenia':3, 'Argentina':2, 'Bahrain':2, 'Slovakia':2, 'Vietnam':2, 'Czech Republic':6, 'Uzbekistan':5}\n",
    "belarus = medal_count['Belarus']\n",
    "belarus = medal_count.get('Belarus')\n",
    "print(belarus)"
   ]
  },
  {
   "cell_type": "code",
   "execution_count": null,
   "metadata": {},
   "outputs": [
    {
     "ename": "TypeError",
     "evalue": "'list' object is not callable",
     "output_type": "error",
     "traceback": [
      "\u001b[0;31m---------------------------------------------------------------------------\u001b[0m",
      "\u001b[0;31mTypeError\u001b[0m                                 Traceback (most recent call last)",
      "Cell \u001b[0;32mIn[15], line 8\u001b[0m\n\u001b[1;32m      5\u001b[0m Junior \u001b[38;5;241m=\u001b[39m {\u001b[38;5;124m'\u001b[39m\u001b[38;5;124mSI 206\u001b[39m\u001b[38;5;124m'\u001b[39m:\u001b[38;5;241m4\u001b[39m, \u001b[38;5;124m'\u001b[39m\u001b[38;5;124mSI 310\u001b[39m\u001b[38;5;124m'\u001b[39m:\u001b[38;5;241m4\u001b[39m, \u001b[38;5;124m'\u001b[39m\u001b[38;5;124mBL 300\u001b[39m\u001b[38;5;124m'\u001b[39m:\u001b[38;5;241m3\u001b[39m, \u001b[38;5;124m'\u001b[39m\u001b[38;5;124mTO 313\u001b[39m\u001b[38;5;124m'\u001b[39m:\u001b[38;5;241m3\u001b[39m, \u001b[38;5;124m'\u001b[39m\u001b[38;5;124mBCOM 350\u001b[39m\u001b[38;5;124m'\u001b[39m:\u001b[38;5;241m1\u001b[39m, \u001b[38;5;124m'\u001b[39m\u001b[38;5;124mMO 300\u001b[39m\u001b[38;5;124m'\u001b[39m:\u001b[38;5;241m3\u001b[39m}\n\u001b[1;32m      7\u001b[0m credits \u001b[38;5;241m=\u001b[39m \u001b[38;5;241m0\u001b[39m\n\u001b[0;32m----> 8\u001b[0m l \u001b[38;5;241m=\u001b[39m \u001b[38;5;28;43mlist\u001b[39;49m\u001b[43m(\u001b[49m\u001b[43mJunior\u001b[49m\u001b[38;5;241;43m.\u001b[39;49m\u001b[43mkeys\u001b[49m\u001b[43m(\u001b[49m\u001b[43m)\u001b[49m\u001b[43m)\u001b[49m\n\u001b[1;32m      9\u001b[0m \u001b[38;5;28;01mfor\u001b[39;00m i \u001b[38;5;129;01min\u001b[39;00m l:\n\u001b[1;32m     10\u001b[0m     credits \u001b[38;5;241m=\u001b[39m credits \u001b[38;5;241m+\u001b[39m Junior[i]\n",
      "\u001b[0;31mTypeError\u001b[0m: 'list' object is not callable"
     ]
    }
   ],
   "source": [
    "#The dictionary Junior shows a schedule for a junior year semester. The key is the course name and the value is the number of credits. \n",
    "#Find the total number of credits taken this semester and assign it to the variable credits. \n",
    "#Do not hardcode this – use dictionary accumulation!\n",
    "\n",
    "Junior = {'SI 206':4, 'SI 310':4, 'BL 300':3, 'TO 313':3, 'BCOM 350':1, 'MO 300':3}\n",
    "\n",
    "credits = 0\n",
    "l = list(Junior.keys())\n",
    "for i in l:\n",
    "    credits = credits + Junior[i]\n",
    "\n",
    "print(credits)"
   ]
  },
  {
   "cell_type": "code",
   "execution_count": null,
   "metadata": {},
   "outputs": [
    {
     "name": "stdout",
     "output_type": "stream",
     "text": [
      "{'p': 9, 'e': 8, 't': 1, 'r': 3, ' ': 7, 'i': 3, 'c': 3, 'k': 3, 'd': 2, 'a': 1, 'o': 1, 'f': 1, 'l': 1, 's': 1}\n"
     ]
    }
   ],
   "source": [
    "#Create a dictionary, freq, that displays each character in string str1 as the key and its frequency as the value.\n",
    "str1 = \"peter piper picked a peck of pickled peppers\"\n",
    "freq = {}\n",
    "\n",
    "for i in str1:\n",
    "    if i not in freq:\n",
    "        freq[i]=0\n",
    "    freq[i]+=1\n",
    "print(freq)"
   ]
  },
  {
   "cell_type": "code",
   "execution_count": null,
   "metadata": {},
   "outputs": [],
   "source": [
    "#Provided is a string saved to the variable name s1. Create a dictionary named counts that contains each letter in s1 and the number of times it occurs.\n",
    "s1 = \"hello\"\n",
    "counts = {}\n",
    "\n",
    "for i in s1:\n",
    "    if i not in counts:\n",
    "        counts[i]=0\n",
    "    counts[i]+=1\n",
    "print(counts)\n"
   ]
  },
  {
   "cell_type": "code",
   "execution_count": null,
   "metadata": {},
   "outputs": [],
   "source": [
    "#Create a dictionary, freq_words, that contains each word in string str1 as the key and its frequency as the value.\n",
    "str1 = \"I wish I wish with all my heart to fly with dragons in a land apart\"\n",
    "str2 = list(str1.split())\n",
    "freq_words = {}\n",
    "for i in str2:\n",
    "    if i not in freq_words:\n",
    "        freq_words[i]=0\n",
    "    freq_words[i]+=1\n",
    "print(freq_words)\n"
   ]
  },
  {
   "cell_type": "code",
   "execution_count": null,
   "metadata": {},
   "outputs": [
    {
     "name": "stdout",
     "output_type": "stream",
     "text": [
      "['Rattata', 'Machop', 'Seel', 'Volbeat', 'Solrock']\n",
      "[19, 66, 86, 86, 126]\n"
     ]
    }
   ],
   "source": [
    "\n",
    "#If you remember, the .items() dictionary method produces a sequence of tuples. Keeping this in mind, we have provided you a dictionary called pokemon. \n",
    "#For every key value pair, append the key to the list p_names, and append the value to the list p_number. Do not use the .keys() or .values() methods.\n",
    "pokemon = {'Rattata': 19, 'Machop': 66, 'Seel': 86, 'Volbeat': 86, 'Solrock': 126}\n",
    "p_names = []\n",
    "p_number = []\n",
    "\n",
    "for k, v in pokemon.items():\n",
    "    p_names.append(k)\n",
    "    p_number.append(v)\n",
    "\n",
    "print(p_names)\n",
    "print(p_number)"
   ]
  },
  {
   "cell_type": "code",
   "execution_count": null,
   "metadata": {},
   "outputs": [
    {
     "name": "stdout",
     "output_type": "stream",
     "text": [
      "['shot put', 'long jump', '100 meters', '400 meters', '100 meter hurdles', 'triple jump', 'steeplechase', '1500 meters', '5K', '10K', 'marathon', '200 meters', '400 meter hurdles', 'high jump']\n"
     ]
    }
   ],
   "source": [
    "#The .items() method produces a sequence of key-value pair tuples. With this in mind, \n",
    "#write code to create a list of keys from the dictionary track_medal_counts and assign the list to the variable name track_events.\n",
    "#Do NOT use the .keys() method.\n",
    "\n",
    "\n",
    "track_medal_counts = {'shot put': 1, 'long jump': 3, '100 meters': 2, '400 meters': 2, '100 meter hurdles': 3, 'triple jump': 3, 'steeplechase': 2, '1500 meters': 1, '5K': 0, '10K': 0, 'marathon': 0, '200 meters': 0, '400 meter hurdles': 0, 'high jump': 1}\n",
    "track_events =[]\n",
    "for k,v in track_medal_counts.items():\n",
    "    track_events.append(k)\n",
    "print(track_events)\n",
    "\n"
   ]
  },
  {
   "cell_type": "code",
   "execution_count": null,
   "metadata": {},
   "outputs": [],
   "source": [
    "#Write a function, sublist, that takes in a list of numbers as the parameter. In the function, use a while loop to return a sublist of the input list. \n",
    "#The sublist should contain the same values of the original list up until it reaches the number 5 (it should not contain the number 5).\n",
    "\n",
    "def sublist (x):\n",
    "    n = 0\n",
    "    list = []\n",
    "    while n<len(x):\n",
    "        if x[n]==5:\n",
    "            break\n",
    "        list.append(x[n])\n",
    "        n= n+1\n",
    "    return (list)\n"
   ]
  },
  {
   "cell_type": "code",
   "execution_count": null,
   "metadata": {},
   "outputs": [],
   "source": [
    "#Challenge: Write a function called beginning that takes a list as input and contains a while loop that only stops once the element of the list is the string ‘bye’. \n",
    "#What is returned is a list that contains up to the first 10 strings, regardless of where the loop stops. \n",
    "#(i.e., if it stops on the 32nd element, the first 10 are returned. \n",
    "#If “bye” is the 5th element, the first 4 are returned.) If you want to make this even more of a challenge, do this without slicing\n",
    "\n",
    "def beginning (x):\n",
    "    n = 0\n",
    "    list = []\n",
    "    \n",
    "    while n < len(x):\n",
    "        if x[n] == 'bye' or n > 9:\n",
    "            break\n",
    "        list.append(x[n])\n",
    "        n = n + 1\n",
    "    return list\n",
    "        \n",
    "\n"
   ]
  },
  {
   "cell_type": "code",
   "execution_count": null,
   "metadata": {},
   "outputs": [],
   "source": [
    "#5. Define a function called multiply. It should have one required parameter, a string. \n",
    "#It should also have one optional parameter, an integer, named mult_int, with a default value of 10. \n",
    "#The function should return the string multiplied by the integer. (i.e.: Given inputs “Hello”, mult_int=3, the function should return “HelloHelloHello”)\n",
    "\n",
    "def multiply(x='', mult_int=10):\n",
    "    return x*mult_int"
   ]
  },
  {
   "cell_type": "code",
   "execution_count": null,
   "metadata": {},
   "outputs": [],
   "source": [
    "#Write a function, test, that takes in three parameters: a required integer, an optional boolean whose default value is True, \n",
    "#and an optional dictionary, called dict1, whose default value is {2:3, 4:5, 6:8}. \n",
    "#If the boolean parameter is True, the function should test to see if the integer is a key in the dictionary. \n",
    "#The value of that key should then be returned. If the boolean parameter is False, return the boolean value “False”.\n",
    "\n",
    "def test(x,y=True,dict1={2:3,4:5,6:7}):\n",
    "    if y == True:\n",
    "        for k,v in dict1.items():\n",
    "            if x == k:\n",
    "                return v\n",
    "    if y == False:\n",
    "        return False"
   ]
  },
  {
   "cell_type": "code",
   "execution_count": null,
   "metadata": {},
   "outputs": [],
   "source": [
    "#Write a function called checkingIfIn that takes three parameters. The first is a required parameter, which should be a string. \n",
    "#The second is an optional parameter called direction with a default value of True. \n",
    "#The third is an optional parameter called d that has a default value of {'apple': 2, 'pear': 1, 'fruit': 19, 'orange': 5, 'banana': 3, 'grapes': 2, 'watermelon': 7}. \n",
    "#Write the function checkingIfIn so that when the second parameter is True, \n",
    "#it checks to see if the first parameter is a key in the third parameter; if it is, return True, \n",
    "#otherwise return False.\n",
    "\n",
    "But if the second paramter is False, then the function should check to see if the first parameter is not a key of the third. If it’s not, the function should return True in this case, and if it is, it should return False.\n",
    "def checkingIfIn(x, direction = True, d = {'apple':2,'pear':1,'fruit':19,'orange':5,'banana':3,'grapes':2,'watermelon':7}):\n",
    "    if direction == True:\n",
    "        if x in d:\n",
    "            return True\n",
    "        else:\n",
    "            return False\n",
    "    else:\n",
    "        if direction == False:\n",
    "            if x not in d:\n",
    "                return True\n",
    "            else:\n",
    "                return False\n"
   ]
  },
  {
   "cell_type": "code",
   "execution_count": null,
   "metadata": {},
   "outputs": [],
   "source": [
    "#We have provided the function checkingIfIn such that if the first input parameter is in the third, dictionary, input parameter,\n",
    "# then the function returns that value, and otherwise, it returns False. \n",
    "#Follow the instructions in the active code window for specific variable assignmemts.\n",
    "\n",
    "def checkingIfIn(a, direction = True, d = {'apple': 2, 'pear': 1, 'fruit': 19, 'orange': 5, 'banana': 3, 'grapes': 2, 'watermelon': 7}):\n",
    "    if direction == True:\n",
    "        if a in d:\n",
    "            return d[a]\n",
    "        else:\n",
    "            return False\n",
    "    else:\n",
    "        if a not in d:\n",
    "            return True\n",
    "        else:\n",
    "            return d[a]\n",
    "\n",
    "# Call the function so that it returns False and assign that function call to the variable c_false\n",
    "c_false=checkingIfIn('a')\n",
    "# Call the fucntion so that it returns True and assign it to the variable c_true\n",
    "c_true = checkingIfIn('a', direction = False)\n",
    "# Call the function so that the value of fruit is assigned to the variable fruit_ans\n",
    "fruit_ans = checkingIfIn('fruit')\n",
    "# Call the function using the first and third parameter so that the value 8 is assigned to the variable param_check\n",
    "\n",
    "param_check = checkingIfIn('j', d = {'j':8})"
   ]
  },
  {
   "cell_type": "code",
   "execution_count": null,
   "metadata": {},
   "outputs": [],
   "source": [
    "#You will be sorting the following list by each element’s second letter, a to z.\n",
    "#Create a function to use when sorting, called second_let. \n",
    "#It will take a string as input and return the second letter of that string. \n",
    "#Then sort the list, create a variable called sorted_by_second_let and assign the sorted list to it. Do not use lambda.\n",
    "\n",
    "ex_lst = ['hi', 'how are you', 'bye', 'apple', 'zebra', 'dance']\n",
    "\n",
    "def second_let (x):\n",
    "    return x[1]\n",
    "\n",
    "sorted_by_second_let = sorted (ex_lst, key = second_let)"
   ]
  },
  {
   "cell_type": "code",
   "execution_count": null,
   "metadata": {},
   "outputs": [
    {
     "name": "stdout",
     "output_type": "stream",
     "text": [
      "['19', '14378', '8907', '16', '1005', '44', '33', '32', '871', '1450']\n"
     ]
    }
   ],
   "source": [
    "#Below, we have provided a list of strings called nums. \n",
    "#Write a function called last_char that takes a string as input, and returns only its last character. \n",
    "#Use this function to sort the list nums by the last digit of each number, \n",
    "#from highest to lowest, and save this as a new list called nums_sorted.\n",
    "\n",
    "nums = ['1450', '33', '871', '19', '14378', '32', '1005', '44', '8907', '16']\n",
    "\n",
    "def last_char(x):\n",
    "    return x[-1]\n",
    "\n",
    "nums_sorted = sorted(nums, key=last_char, reverse=True)\n",
    "\n",
    "print(nums_sorted)"
   ]
  },
  {
   "cell_type": "code",
   "execution_count": null,
   "metadata": {},
   "outputs": [
    {
     "name": "stdout",
     "output_type": "stream",
     "text": [
      "['19', '14378', '8907', '16', '1005', '44', '33', '32', '871', '1450']\n"
     ]
    }
   ],
   "source": [
    "#Once again, sort the list nums based on the last digit of each number from highest to lowest. \n",
    "#However, now you should do so by writing a lambda function. Save the new list as nums_sorted_lambda.\n",
    "\n",
    "\n",
    "nums = ['1450', '33', '871', '19', '14378', '32', '1005', '44', '8907', '16']\n",
    "\n",
    "nums_sorted_lambda =sorted(nums, key=lambda x: x[-1],reverse=True)\n",
    "\n",
    "print(nums_sorted_lambda)"
   ]
  },
  {
   "cell_type": "code",
   "execution_count": null,
   "metadata": {},
   "outputs": [],
   "source": [
    "#Sort the following dictionary’s keys based on the value from highest to lowest. Assign the resulting value to the variable sorted_values.\n",
    "\n",
    "dictionary = {\"Flowers\": 10, 'Trees': 20, 'Chairs': 6, \"Firepit\": 1, 'Grill': 2, 'Lights': 14}\n",
    "\n",
    "sorted_values = sorted(dictionary, key = lambda k:dictionary[k], reverse = True)"
   ]
  },
  {
   "cell_type": "code",
   "execution_count": null,
   "metadata": {},
   "outputs": [],
   "source": [
    "#Use a helper function to have the lambda expression cleaner\n",
    "def s_cities_count(city_list):\n",
    "    ct = 0\n",
    "    for city in city_list:\n",
    "        if city[0] == \"S\":\n",
    "            ct += 1\n",
    "    return ct\n",
    "\n",
    "states = {\"Minnesota\": [\"St. Paul\", \"Minneapolis\", \"Saint Cloud\", \"Stillwater\"],\n",
    "          \"Michigan\": [\"Ann Arbor\", \"Traverse City\", \"Lansing\", \"Kalamazoo\"],\n",
    "          \"Washington\": [\"Seattle\", \"Tacoma\", \"Olympia\", \"Vancouver\"]}\n",
    "\n",
    "print(sorted(states, key=lambda state: s_cities_count(states[state])))\n"
   ]
  },
  {
   "cell_type": "code",
   "execution_count": null,
   "metadata": {},
   "outputs": [
    {
     "name": "stdout",
     "output_type": "stream",
     "text": [
      "['United States', 'China', 'Russia']\n"
     ]
    }
   ],
   "source": [
    "#Given the same dictionary, medals, now sort by the medal count. Save the three countries with the highest medal count to the list, top_three.\n",
    "\n",
    "medals = {'Japan':41, 'Russia':56, 'South Korea':21, 'United States':121, 'Germany':42, 'China':70}\n",
    "\n",
    "list = sorted(medals, key = lambda medal:medals[medal],reverse=True)\n",
    "\n",
    "top_three = list[:3]\n",
    "\n",
    "print(top_three)"
   ]
  },
  {
   "cell_type": "code",
   "execution_count": null,
   "metadata": {},
   "outputs": [
    {
     "name": "stdout",
     "output_type": "stream",
     "text": [
      "['granola bars', 'carrots', 'spinach', 'bananas', 'onions', 'apples', 'coffee', 'cereal', 'pasta', 'salsa', 'orange juice', 'peanut butter', 'popcorn', 'rice']\n"
     ]
    }
   ],
   "source": [
    "#We have provided the dictionary groceries. You should return a list of its keys, but they should be sorted by their values, from highest to lowest. Save the new list as most_needed.\n",
    "\n",
    "groceries = {'apples': 5, 'pasta': 3, 'carrots': 12, 'orange juice': 2, 'bananas': 8, 'popcorn': 1, 'salsa': 3, 'cereal': 4, 'coffee': 5, 'granola bars': 15, 'onions': 7, 'rice': 1, 'peanut butter': 2, 'spinach': 9}\n",
    "\n",
    "most_needed = sorted(groceries, key = lambda k:groceries[k],reverse=True)\n",
    "\n",
    "print(most_needed)"
   ]
  },
  {
   "cell_type": "code",
   "execution_count": null,
   "metadata": {},
   "outputs": [
    {
     "name": "stdout",
     "output_type": "stream",
     "text": [
      "4567\n",
      "[17570002, 17572342, 17572345, 17573005, 17579000, 17579329]\n"
     ]
    }
   ],
   "source": [
    "#Create a function called last_four that takes in a single ID number and returns the last four digits. For example, the number 17573005 should return 3005. Then, use the resulting function to sort the list of ids stored in the variable, ids, from lowest to highest. \n",
    "#Save this sorted list in the variable, sorted_ids. Hint: Remember that only strings can be indexed, so conversions may be needed.\n",
    "def last_four(x):\n",
    "    return (str(x)[-4:])\n",
    "print(last_four(1234567))\n",
    "\n",
    "ids = [17573005, 17572342, 17579000, 17570002, 17572345, 17579329]\n",
    "sorted_ids = sorted(ids, key=lambda k :last_four(k))\n",
    "print(sorted_ids)"
   ]
  },
  {
   "cell_type": "code",
   "execution_count": null,
   "metadata": {},
   "outputs": [
    {
     "name": "stdout",
     "output_type": "stream",
     "text": [
      "[17570002, 17572342, 17572345, 17573005, 17579000, 17579329]\n"
     ]
    }
   ],
   "source": [
    "#Sort the list ids by the last four digits of each id. Do this using lambda and not using a defined function. Save this sorted list in the variable sorted_id.\n",
    "\n",
    "ids = [17573005, 17572342, 17579000, 17570002, 17572345, 17579329]\n",
    "\n",
    "sorted_id = sorted(ids, key = lambda k:str(k)[-4:])\n",
    "\n",
    "print(sorted_id)"
   ]
  },
  {
   "cell_type": "code",
   "execution_count": null,
   "metadata": {},
   "outputs": [
    {
     "name": "stdout",
     "output_type": "stream",
     "text": [
      "['dance', 'zebra', 'hi', 'how are you', 'apple', 'bye']\n"
     ]
    }
   ],
   "source": [
    "#Sort the following list by each element’s second letter a to z. Do so by using lambda. Assign the resulting value to the variable lambda_sort.\n",
    "\n",
    "ex_lst = ['hi', 'how are you', 'bye', 'apple', 'zebra', 'dance']\n",
    "\n",
    "lambda_sort = sorted(ex_lst, key =lambda x:x[1])\n",
    "\n",
    "print(lambda_sort)"
   ]
  },
  {
   "cell_type": "code",
   "execution_count": null,
   "metadata": {},
   "outputs": [],
   "source": [
    "#Below, we have provided a list of strings called nums. \n",
    "#Write a function called last_char that takes a string as input, and returns only its last character. \n",
    "#Use this function to sort the list nums by the last digit of each number, \n",
    "#from highest to lowest, and save this as a new list called nums_sorted.\n",
    "\n",
    "nums = ['1450', '33', '871', '19', '14378', '32', '1005', '44', '8907', '16']\n",
    "\n",
    "def last_char(x):\n",
    "    return x[-1]\n",
    "\n",
    "nums_sorted = sorted(nums, key=last_char, reverse=True)"
   ]
  },
  {
   "cell_type": "code",
   "execution_count": 1,
   "metadata": {},
   "outputs": [],
   "source": [
    "#Once again, sort the list nums based on the last digit of each number from highest to lowest. \n",
    "#However, now you should do so by writing a lambda function. Save the new list as nums_sorted_lambda.\n",
    "\n",
    "\n",
    "nums = ['1450', '33', '871', '19', '14378', '32', '1005', '44', '8907', '16']\n",
    "\n",
    "nums_sorted_lambda =sorted(nums, key=lambda x: x[-1],reverse=True)"
   ]
  },
  {
   "cell_type": "code",
   "execution_count": 2,
   "metadata": {},
   "outputs": [],
   "source": [
    "#We have provided some synthetic (fake, semi-randomly generated) twitter data in a csv file named project_twitter_data.csv \n",
    "#which has the text of a tweet, the number of retweets of that tweet, and the number of replies to that tweet. \n",
    "#We have also words that express positive sentiment and negative sentiment, in the files positive_words.txt and negative_words.txt.\n",
    "\n",
    "#Your task is to build a sentiment classifier, which will detect how positive or negative each tweet is. \n",
    "#You will create a csv file, which contains columns for the Number of Retweets, Number of Replies, \n",
    "#Positive Score (which is how many happy words are in the tweet), \n",
    "#Negative Score (which is how many angry words are in the tweet), and the Net Score for each tweet. \n",
    "#At the end, you upload the csv file to Excel or Google Sheets, and produce a graph of the Net Score vs Number of Retweets.\n",
    "\n",
    "#To start, define a function called strip_punctuation which takes one parameter, a string which represents a word, \n",
    "#and removes characters considered punctuation from everywhere in the word. (Hint: remember the .replace() method for strings.)\n",
    "def strip_punctuation(x):\n",
    "    punctuation_chars = [\"'\", '\"', \",\", \".\", \"!\", \":\", \";\", '#', '@']\n",
    "    for ch in punctuation_chars:\n",
    "        x=x.replace(ch,\"\")\n",
    "    return x"
   ]
  },
  {
   "cell_type": "code",
   "execution_count": 4,
   "metadata": {},
   "outputs": [],
   "source": [
    "#Next, copy in your strip_punctuation function and define a function called get_pos which takes one parameter, \n",
    "#a string which represents one or more sentences, and calculates how many words in the string are considered positive words. \n",
    "#Use the list, positive_words to determine what words will count as positive. \n",
    "#The function should return a positive integer - how many occurrences there are of positive words in the text. \n",
    "#Note that all of the words in positive_words are lower cased, so you’ll need to convert all the words in the input string to lower case as well.\n",
    "punctuation_chars = [\"'\", '\"', \",\", \".\", \"!\", \":\", \";\", '#', '@']\n",
    "\n",
    "def strip_punctuation(x):\n",
    "    punctuation_chars = [\"'\", '\"', \",\", \".\", \"!\", \":\", \";\", '#', '@']\n",
    "    for ch in punctuation_chars:\n",
    "        x=x.replace(ch,\"\")\n",
    "    return x\n",
    "\n",
    "positive_words = []\n",
    "with open(\"positive_words.txt\") as pos_f:  #positive_words.txt not saved in local\n",
    "    for lin in pos_f:\n",
    "        if lin[0] != ';' and lin[0] != '\\n':\n",
    "            positive_words.append(lin.strip())\n",
    "def get_pos(sentences):\n",
    "    lower_string=sentences.lower()                    ## As the list of positive words are in lower case\n",
    "    str_punc_removed=strip_punctuation(lower_string)  ##For Punctuation Removal\n",
    "    print(\"str_punc_removed:\",str_punc_removed)\n",
    "    splitted_string=str_punc_removed.split()          ## For splitting the sentence into words\n",
    "    print (\"splitted_string:\",splitted_string)\n",
    "    pos_count=0\n",
    "    for w in splitted_string:\n",
    "        if w in positive_words:\n",
    "            pos_count=pos_count+1\n",
    "    return pos_count"
   ]
  },
  {
   "cell_type": "code",
   "execution_count": 6,
   "metadata": {},
   "outputs": [],
   "source": [
    "\n",
    "#Next, copy in your strip_punctuation function and define a function called get_neg which takes one parameter, \n",
    "#a string which represents one or more sentences, and calculates how many words in the string are considered negative words. \n",
    "#Use the list, negative_words to determine what words will count as negative. \n",
    "#The function should return a positive integer - how many occurrences there are of negative words in the text. \n",
    "#Note that all of the words in negative_words are lower cased, so you’ll need to convert all the words in the input string to lower case as well.\n",
    "def strip_punctuation(x):\n",
    "    punctuation_chars = [\"'\", '\"', \",\", \".\", \"!\", \":\", \";\", '#', '@']\n",
    "    for ch in punctuation_chars:\n",
    "        x=x.replace(ch,\"\")\n",
    "    return x\n",
    "\n",
    "negative_words = []\n",
    "with open(\"negative_words.txt\") as pos_f:\n",
    "    for lin in pos_f:\n",
    "        if lin[0] != ';' and lin[0] != '\\n':\n",
    "            negative_words.append(lin.strip())\n",
    "\n",
    "def get_neg(sentences):\n",
    "    lower_string=sentences.lower()                    ## As the list of positive words are in lower case\n",
    "    str_punc_removed=strip_punctuation(lower_string)  ## For Punctuation Removal\n",
    "    print(\"str_punc_removed:\",str_punc_removed)\n",
    "    splitted_string=str_punc_removed.split()          ## For splitting the sentence into words\n",
    "    print (\"splitted_string:\",splitted_string)\n",
    "    neg_count=0\n",
    "    for w in splitted_string:\n",
    "        if w in negative_words:\n",
    "            neg_count=neg_count+1\n",
    "    return neg_count"
   ]
  },
  {
   "cell_type": "code",
   "execution_count": 8,
   "metadata": {},
   "outputs": [
    {
     "name": "stdout",
     "output_type": "stream",
     "text": [
      "str_punc_removed: twitteruser on now - fusion scores first points firstfinals overwatchleague umich umsi michigan athletics made out of emojis goblue\n",
      "splitted_string: ['twitteruser', 'on', 'now', '-', 'fusion', 'scores', 'first', 'points', 'firstfinals', 'overwatchleague', 'umich', 'umsi', 'michigan', 'athletics', 'made', 'out', 'of', 'emojis', 'goblue']\n",
      "str_punc_removed: twitteruser on now - fusion scores first points firstfinals overwatchleague umich umsi michigan athletics made out of emojis goblue\n",
      "splitted_string: ['twitteruser', 'on', 'now', '-', 'fusion', 'scores', 'first', 'points', 'firstfinals', 'overwatchleague', 'umich', 'umsi', 'michigan', 'athletics', 'made', 'out', 'of', 'emojis', 'goblue']\n",
      "str_punc_removed: twitteruser on now - fusion scores first points firstfinals overwatchleague umich umsi michigan athletics made out of emojis goblue\n",
      "splitted_string: ['twitteruser', 'on', 'now', '-', 'fusion', 'scores', 'first', 'points', 'firstfinals', 'overwatchleague', 'umich', 'umsi', 'michigan', 'athletics', 'made', 'out', 'of', 'emojis', 'goblue']\n",
      "str_punc_removed: twitteruser on now - fusion scores first points firstfinals overwatchleague umich umsi michigan athletics made out of emojis goblue\n",
      "splitted_string: ['twitteruser', 'on', 'now', '-', 'fusion', 'scores', 'first', 'points', 'firstfinals', 'overwatchleague', 'umich', 'umsi', 'michigan', 'athletics', 'made', 'out', 'of', 'emojis', 'goblue']\n",
      "str_punc_removed: bunch of things about crisis respons… available july 8th… scholarship focuses on improving me… in north america a s… and frigid temperatures\n",
      "splitted_string: ['bunch', 'of', 'things', 'about', 'crisis', 'respons…', 'available', 'july', '8th…', 'scholarship', 'focuses', 'on', 'improving', 'me…', 'in', 'north', 'america', 'a', 's…', 'and', 'frigid', 'temperatures']\n",
      "str_punc_removed: bunch of things about crisis respons… available july 8th… scholarship focuses on improving me… in north america a s… and frigid temperatures\n",
      "splitted_string: ['bunch', 'of', 'things', 'about', 'crisis', 'respons…', 'available', 'july', '8th…', 'scholarship', 'focuses', 'on', 'improving', 'me…', 'in', 'north', 'america', 'a', 's…', 'and', 'frigid', 'temperatures']\n",
      "str_punc_removed: bunch of things about crisis respons… available july 8th… scholarship focuses on improving me… in north america a s… and frigid temperatures\n",
      "splitted_string: ['bunch', 'of', 'things', 'about', 'crisis', 'respons…', 'available', 'july', '8th…', 'scholarship', 'focuses', 'on', 'improving', 'me…', 'in', 'north', 'america', 'a', 's…', 'and', 'frigid', 'temperatures']\n",
      "str_punc_removed: bunch of things about crisis respons… available july 8th… scholarship focuses on improving me… in north america a s… and frigid temperatures\n",
      "splitted_string: ['bunch', 'of', 'things', 'about', 'crisis', 'respons…', 'available', 'july', '8th…', 'scholarship', 'focuses', 'on', 'improving', 'me…', 'in', 'north', 'america', 'a', 's…', 'and', 'frigid', 'temperatures']\n",
      "str_punc_removed: free ice cream with these local area deals chance to pitch yourself to hundreds of employers? msi student name here is spending her summer\n",
      "splitted_string: ['free', 'ice', 'cream', 'with', 'these', 'local', 'area', 'deals', 'chance', 'to', 'pitch', 'yourself', 'to', 'hundreds', 'of', 'employers?', 'msi', 'student', 'name', 'here', 'is', 'spending', 'her', 'summer']\n",
      "str_punc_removed: free ice cream with these local area deals chance to pitch yourself to hundreds of employers? msi student name here is spending her summer\n",
      "splitted_string: ['free', 'ice', 'cream', 'with', 'these', 'local', 'area', 'deals', 'chance', 'to', 'pitch', 'yourself', 'to', 'hundreds', 'of', 'employers?', 'msi', 'student', 'name', 'here', 'is', 'spending', 'her', 'summer']\n",
      "str_punc_removed: free ice cream with these local area deals chance to pitch yourself to hundreds of employers? msi student name here is spending her summer\n",
      "splitted_string: ['free', 'ice', 'cream', 'with', 'these', 'local', 'area', 'deals', 'chance', 'to', 'pitch', 'yourself', 'to', 'hundreds', 'of', 'employers?', 'msi', 'student', 'name', 'here', 'is', 'spending', 'her', 'summer']\n",
      "str_punc_removed: free ice cream with these local area deals chance to pitch yourself to hundreds of employers? msi student name here is spending her summer\n",
      "splitted_string: ['free', 'ice', 'cream', 'with', 'these', 'local', 'area', 'deals', 'chance', 'to', 'pitch', 'yourself', 'to', 'hundreds', 'of', 'employers?', 'msi', 'student', 'name', 'here', 'is', 'spending', 'her', 'summer']\n",
      "str_punc_removed: away from the internet of things attacks… right and the left? see… use diy language to discuss other projects not traditionally viewed as masculine\n",
      "splitted_string: ['away', 'from', 'the', 'internet', 'of', 'things', 'attacks…', 'right', 'and', 'the', 'left?', 'see…', 'use', 'diy', 'language', 'to', 'discuss', 'other', 'projects', 'not', 'traditionally', 'viewed', 'as', 'masculine']\n",
      "str_punc_removed: away from the internet of things attacks… right and the left? see… use diy language to discuss other projects not traditionally viewed as masculine\n",
      "splitted_string: ['away', 'from', 'the', 'internet', 'of', 'things', 'attacks…', 'right', 'and', 'the', 'left?', 'see…', 'use', 'diy', 'language', 'to', 'discuss', 'other', 'projects', 'not', 'traditionally', 'viewed', 'as', 'masculine']\n",
      "str_punc_removed: away from the internet of things attacks… right and the left? see… use diy language to discuss other projects not traditionally viewed as masculine\n",
      "splitted_string: ['away', 'from', 'the', 'internet', 'of', 'things', 'attacks…', 'right', 'and', 'the', 'left?', 'see…', 'use', 'diy', 'language', 'to', 'discuss', 'other', 'projects', 'not', 'traditionally', 'viewed', 'as', 'masculine']\n",
      "str_punc_removed: away from the internet of things attacks… right and the left? see… use diy language to discuss other projects not traditionally viewed as masculine\n",
      "splitted_string: ['away', 'from', 'the', 'internet', 'of', 'things', 'attacks…', 'right', 'and', 'the', 'left?', 'see…', 'use', 'diy', 'language', 'to', 'discuss', 'other', 'projects', 'not', 'traditionally', 'viewed', 'as', 'masculine']\n",
      "str_punc_removed: in city name… from twitteruser has some amazing datasets and tools for collective action - umsi a… grateful for… equipping elderly african-american\n",
      "splitted_string: ['in', 'city', 'name…', 'from', 'twitteruser', 'has', 'some', 'amazing', 'datasets', 'and', 'tools', 'for', 'collective', 'action', '-', 'umsi', 'a…', 'grateful', 'for…', 'equipping', 'elderly', 'african-american']\n",
      "str_punc_removed: in city name… from twitteruser has some amazing datasets and tools for collective action - umsi a… grateful for… equipping elderly african-american\n",
      "splitted_string: ['in', 'city', 'name…', 'from', 'twitteruser', 'has', 'some', 'amazing', 'datasets', 'and', 'tools', 'for', 'collective', 'action', '-', 'umsi', 'a…', 'grateful', 'for…', 'equipping', 'elderly', 'african-american']\n",
      "str_punc_removed: in city name… from twitteruser has some amazing datasets and tools for collective action - umsi a… grateful for… equipping elderly african-american\n",
      "splitted_string: ['in', 'city', 'name…', 'from', 'twitteruser', 'has', 'some', 'amazing', 'datasets', 'and', 'tools', 'for', 'collective', 'action', '-', 'umsi', 'a…', 'grateful', 'for…', 'equipping', 'elderly', 'african-american']\n",
      "str_punc_removed: in city name… from twitteruser has some amazing datasets and tools for collective action - umsi a… grateful for… equipping elderly african-american\n",
      "splitted_string: ['in', 'city', 'name…', 'from', 'twitteruser', 'has', 'some', 'amazing', 'datasets', 'and', 'tools', 'for', 'collective', 'action', '-', 'umsi', 'a…', 'grateful', 'for…', 'equipping', 'elderly', 'african-american']\n",
      "str_punc_removed: entrepreneurship in city… a great social media job opportunity for our umsi alumni looking to work at city name public schools goblue\n",
      "splitted_string: ['entrepreneurship', 'in', 'city…', 'a', 'great', 'social', 'media', 'job', 'opportunity', 'for', 'our', 'umsi', 'alumni', 'looking', 'to', 'work', 'at', 'city', 'name', 'public', 'schools', 'goblue']\n",
      "str_punc_removed: entrepreneurship in city… a great social media job opportunity for our umsi alumni looking to work at city name public schools goblue\n",
      "splitted_string: ['entrepreneurship', 'in', 'city…', 'a', 'great', 'social', 'media', 'job', 'opportunity', 'for', 'our', 'umsi', 'alumni', 'looking', 'to', 'work', 'at', 'city', 'name', 'public', 'schools', 'goblue']\n",
      "str_punc_removed: entrepreneurship in city… a great social media job opportunity for our umsi alumni looking to work at city name public schools goblue\n",
      "splitted_string: ['entrepreneurship', 'in', 'city…', 'a', 'great', 'social', 'media', 'job', 'opportunity', 'for', 'our', 'umsi', 'alumni', 'looking', 'to', 'work', 'at', 'city', 'name', 'public', 'schools', 'goblue']\n",
      "str_punc_removed: entrepreneurship in city… a great social media job opportunity for our umsi alumni looking to work at city name public schools goblue\n",
      "splitted_string: ['entrepreneurship', 'in', 'city…', 'a', 'great', 'social', 'media', 'job', 'opportunity', 'for', 'our', 'umsi', 'alumni', 'looking', 'to', 'work', 'at', 'city', 'name', 'public', 'schools', 'goblue']\n",
      "str_punc_removed: bringing datascience to community researchers with a team of researchers have been helping people in lean economies learn entrepreneurial\n",
      "splitted_string: ['bringing', 'datascience', 'to', 'community', 'researchers', 'with', 'a', 'team', 'of', 'researchers', 'have', 'been', 'helping', 'people', 'in', 'lean', 'economies', 'learn', 'entrepreneurial']\n",
      "str_punc_removed: bringing datascience to community researchers with a team of researchers have been helping people in lean economies learn entrepreneurial\n",
      "splitted_string: ['bringing', 'datascience', 'to', 'community', 'researchers', 'with', 'a', 'team', 'of', 'researchers', 'have', 'been', 'helping', 'people', 'in', 'lean', 'economies', 'learn', 'entrepreneurial']\n",
      "str_punc_removed: bringing datascience to community researchers with a team of researchers have been helping people in lean economies learn entrepreneurial\n",
      "splitted_string: ['bringing', 'datascience', 'to', 'community', 'researchers', 'with', 'a', 'team', 'of', 'researchers', 'have', 'been', 'helping', 'people', 'in', 'lean', 'economies', 'learn', 'entrepreneurial']\n",
      "str_punc_removed: bringing datascience to community researchers with a team of researchers have been helping people in lean economies learn entrepreneurial\n",
      "splitted_string: ['bringing', 'datascience', 'to', 'community', 'researchers', 'with', 'a', 'team', 'of', 'researchers', 'have', 'been', 'helping', 'people', 'in', 'lean', 'economies', 'learn', 'entrepreneurial']\n",
      "str_punc_removed: why not pay you?… endure crushing pressures and frigid temperatures but the most difficult part of… faculty and staff across the city\n",
      "splitted_string: ['why', 'not', 'pay', 'you?…', 'endure', 'crushing', 'pressures', 'and', 'frigid', 'temperatures', 'but', 'the', 'most', 'difficult', 'part', 'of…', 'faculty', 'and', 'staff', 'across', 'the', 'city']\n",
      "str_punc_removed: why not pay you?… endure crushing pressures and frigid temperatures but the most difficult part of… faculty and staff across the city\n",
      "splitted_string: ['why', 'not', 'pay', 'you?…', 'endure', 'crushing', 'pressures', 'and', 'frigid', 'temperatures', 'but', 'the', 'most', 'difficult', 'part', 'of…', 'faculty', 'and', 'staff', 'across', 'the', 'city']\n",
      "str_punc_removed: why not pay you?… endure crushing pressures and frigid temperatures but the most difficult part of… faculty and staff across the city\n",
      "splitted_string: ['why', 'not', 'pay', 'you?…', 'endure', 'crushing', 'pressures', 'and', 'frigid', 'temperatures', 'but', 'the', 'most', 'difficult', 'part', 'of…', 'faculty', 'and', 'staff', 'across', 'the', 'city']\n",
      "str_punc_removed: why not pay you?… endure crushing pressures and frigid temperatures but the most difficult part of… faculty and staff across the city\n",
      "splitted_string: ['why', 'not', 'pay', 'you?…', 'endure', 'crushing', 'pressures', 'and', 'frigid', 'temperatures', 'but', 'the', 'most', 'difficult', 'part', 'of…', 'faculty', 'and', 'staff', 'across', 'the', 'city']\n",
      "str_punc_removed: a bunch of things about crisis respons… – but the implications are much bigger t… for some but a financial burden for others umichdpss and\n",
      "splitted_string: ['a', 'bunch', 'of', 'things', 'about', 'crisis', 'respons…', '–', 'but', 'the', 'implications', 'are', 'much', 'bigger', 't…', 'for', 'some', 'but', 'a', 'financial', 'burden', 'for', 'others', 'umichdpss', 'and']\n",
      "str_punc_removed: a bunch of things about crisis respons… – but the implications are much bigger t… for some but a financial burden for others umichdpss and\n",
      "splitted_string: ['a', 'bunch', 'of', 'things', 'about', 'crisis', 'respons…', '–', 'but', 'the', 'implications', 'are', 'much', 'bigger', 't…', 'for', 'some', 'but', 'a', 'financial', 'burden', 'for', 'others', 'umichdpss', 'and']\n",
      "str_punc_removed: a bunch of things about crisis respons… – but the implications are much bigger t… for some but a financial burden for others umichdpss and\n",
      "splitted_string: ['a', 'bunch', 'of', 'things', 'about', 'crisis', 'respons…', '–', 'but', 'the', 'implications', 'are', 'much', 'bigger', 't…', 'for', 'some', 'but', 'a', 'financial', 'burden', 'for', 'others', 'umichdpss', 'and']\n",
      "str_punc_removed: a bunch of things about crisis respons… – but the implications are much bigger t… for some but a financial burden for others umichdpss and\n",
      "splitted_string: ['a', 'bunch', 'of', 'things', 'about', 'crisis', 'respons…', '–', 'but', 'the', 'implications', 'are', 'much', 'bigger', 't…', 'for', 'some', 'but', 'a', 'financial', 'burden', 'for', 'others', 'umichdpss', 'and']\n",
      "str_punc_removed: theemmys nomination for best lead actor in a library role focused on digital services and projects? as a bonus you get to work at t… by cab938\n",
      "splitted_string: ['theemmys', 'nomination', 'for', 'best', 'lead', 'actor', 'in', 'a', 'library', 'role', 'focused', 'on', 'digital', 'services', 'and', 'projects?', 'as', 'a', 'bonus', 'you', 'get', 'to', 'work', 'at', 't…', 'by', 'cab938']\n",
      "str_punc_removed: theemmys nomination for best lead actor in a library role focused on digital services and projects? as a bonus you get to work at t… by cab938\n",
      "splitted_string: ['theemmys', 'nomination', 'for', 'best', 'lead', 'actor', 'in', 'a', 'library', 'role', 'focused', 'on', 'digital', 'services', 'and', 'projects?', 'as', 'a', 'bonus', 'you', 'get', 'to', 'work', 'at', 't…', 'by', 'cab938']\n",
      "str_punc_removed: theemmys nomination for best lead actor in a library role focused on digital services and projects? as a bonus you get to work at t… by cab938\n",
      "splitted_string: ['theemmys', 'nomination', 'for', 'best', 'lead', 'actor', 'in', 'a', 'library', 'role', 'focused', 'on', 'digital', 'services', 'and', 'projects?', 'as', 'a', 'bonus', 'you', 'get', 'to', 'work', 'at', 't…', 'by', 'cab938']\n",
      "str_punc_removed: theemmys nomination for best lead actor in a library role focused on digital services and projects? as a bonus you get to work at t… by cab938\n",
      "splitted_string: ['theemmys', 'nomination', 'for', 'best', 'lead', 'actor', 'in', 'a', 'library', 'role', 'focused', 'on', 'digital', 'services', 'and', 'projects?', 'as', 'a', 'bonus', 'you', 'get', 'to', 'work', 'at', 't…', 'by', 'cab938']\n",
      "str_punc_removed: this headline has been inescapable this summer now the infectious chart-topper from scorpion gets a vi… seventh victim scorpion gets a\n",
      "splitted_string: ['this', 'headline', 'has', 'been', 'inescapable', 'this', 'summer', 'now', 'the', 'infectious', 'chart-topper', 'from', 'scorpion', 'gets', 'a', 'vi…', 'seventh', 'victim', 'scorpion', 'gets', 'a']\n",
      "str_punc_removed: this headline has been inescapable this summer now the infectious chart-topper from scorpion gets a vi… seventh victim scorpion gets a\n",
      "splitted_string: ['this', 'headline', 'has', 'been', 'inescapable', 'this', 'summer', 'now', 'the', 'infectious', 'chart-topper', 'from', 'scorpion', 'gets', 'a', 'vi…', 'seventh', 'victim', 'scorpion', 'gets', 'a']\n",
      "str_punc_removed: this headline has been inescapable this summer now the infectious chart-topper from scorpion gets a vi… seventh victim scorpion gets a\n",
      "splitted_string: ['this', 'headline', 'has', 'been', 'inescapable', 'this', 'summer', 'now', 'the', 'infectious', 'chart-topper', 'from', 'scorpion', 'gets', 'a', 'vi…', 'seventh', 'victim', 'scorpion', 'gets', 'a']\n",
      "str_punc_removed: this headline has been inescapable this summer now the infectious chart-topper from scorpion gets a vi… seventh victim scorpion gets a\n",
      "splitted_string: ['this', 'headline', 'has', 'been', 'inescapable', 'this', 'summer', 'now', 'the', 'infectious', 'chart-topper', 'from', 'scorpion', 'gets', 'a', 'vi…', 'seventh', 'victim', 'scorpion', 'gets', 'a']\n",
      "str_punc_removed: of wine with a shoe? yes but it aint pretty its first amendment rights that it claims will for… and non-binary musicians shaping the sound\n",
      "splitted_string: ['of', 'wine', 'with', 'a', 'shoe?', 'yes', 'but', 'it', 'aint', 'pretty', 'its', 'first', 'amendment', 'rights', 'that', 'it', 'claims', 'will', 'for…', 'and', 'non-binary', 'musicians', 'shaping', 'the', 'sound']\n",
      "str_punc_removed: of wine with a shoe? yes but it aint pretty its first amendment rights that it claims will for… and non-binary musicians shaping the sound\n",
      "splitted_string: ['of', 'wine', 'with', 'a', 'shoe?', 'yes', 'but', 'it', 'aint', 'pretty', 'its', 'first', 'amendment', 'rights', 'that', 'it', 'claims', 'will', 'for…', 'and', 'non-binary', 'musicians', 'shaping', 'the', 'sound']\n",
      "str_punc_removed: of wine with a shoe? yes but it aint pretty its first amendment rights that it claims will for… and non-binary musicians shaping the sound\n",
      "splitted_string: ['of', 'wine', 'with', 'a', 'shoe?', 'yes', 'but', 'it', 'aint', 'pretty', 'its', 'first', 'amendment', 'rights', 'that', 'it', 'claims', 'will', 'for…', 'and', 'non-binary', 'musicians', 'shaping', 'the', 'sound']\n",
      "str_punc_removed: of wine with a shoe? yes but it aint pretty its first amendment rights that it claims will for… and non-binary musicians shaping the sound\n",
      "splitted_string: ['of', 'wine', 'with', 'a', 'shoe?', 'yes', 'but', 'it', 'aint', 'pretty', 'its', 'first', 'amendment', 'rights', 'that', 'it', 'claims', 'will', 'for…', 'and', 'non-binary', 'musicians', 'shaping', 'the', 'sound']\n",
      "str_punc_removed: have detained six people in history to ride to orbit in private space taxis next year if all to faithful them is that they simply cant afford\n",
      "splitted_string: ['have', 'detained', 'six', 'people', 'in', 'history', 'to', 'ride', 'to', 'orbit', 'in', 'private', 'space', 'taxis', 'next', 'year', 'if', 'all', 'to', 'faithful', 'them', 'is', 'that', 'they', 'simply', 'cant', 'afford']\n",
      "str_punc_removed: have detained six people in history to ride to orbit in private space taxis next year if all to faithful them is that they simply cant afford\n",
      "splitted_string: ['have', 'detained', 'six', 'people', 'in', 'history', 'to', 'ride', 'to', 'orbit', 'in', 'private', 'space', 'taxis', 'next', 'year', 'if', 'all', 'to', 'faithful', 'them', 'is', 'that', 'they', 'simply', 'cant', 'afford']\n",
      "str_punc_removed: have detained six people in history to ride to orbit in private space taxis next year if all to faithful them is that they simply cant afford\n",
      "splitted_string: ['have', 'detained', 'six', 'people', 'in', 'history', 'to', 'ride', 'to', 'orbit', 'in', 'private', 'space', 'taxis', 'next', 'year', 'if', 'all', 'to', 'faithful', 'them', 'is', 'that', 'they', 'simply', 'cant', 'afford']\n",
      "str_punc_removed: have detained six people in history to ride to orbit in private space taxis next year if all to faithful them is that they simply cant afford\n",
      "splitted_string: ['have', 'detained', 'six', 'people', 'in', 'history', 'to', 'ride', 'to', 'orbit', 'in', 'private', 'space', 'taxis', 'next', 'year', 'if', 'all', 'to', 'faithful', 'them', 'is', 'that', 'they', 'simply', 'cant', 'afford']\n",
      "str_punc_removed: pet name she is 1 year old shiba inu when her caregiver is not at home name likes to have… i tell them about my website and ask if my\n",
      "splitted_string: ['pet', 'name', 'she', 'is', '1', 'year', 'old', 'shiba', 'inu', 'when', 'her', 'caregiver', 'is', 'not', 'at', 'home', 'name', 'likes', 'to', 'have…', 'i', 'tell', 'them', 'about', 'my', 'website', 'and', 'ask', 'if', 'my']\n",
      "str_punc_removed: pet name she is 1 year old shiba inu when her caregiver is not at home name likes to have… i tell them about my website and ask if my\n",
      "splitted_string: ['pet', 'name', 'she', 'is', '1', 'year', 'old', 'shiba', 'inu', 'when', 'her', 'caregiver', 'is', 'not', 'at', 'home', 'name', 'likes', 'to', 'have…', 'i', 'tell', 'them', 'about', 'my', 'website', 'and', 'ask', 'if', 'my']\n",
      "str_punc_removed: pet name she is 1 year old shiba inu when her caregiver is not at home name likes to have… i tell them about my website and ask if my\n",
      "splitted_string: ['pet', 'name', 'she', 'is', '1', 'year', 'old', 'shiba', 'inu', 'when', 'her', 'caregiver', 'is', 'not', 'at', 'home', 'name', 'likes', 'to', 'have…', 'i', 'tell', 'them', 'about', 'my', 'website', 'and', 'ask', 'if', 'my']\n",
      "str_punc_removed: pet name she is 1 year old shiba inu when her caregiver is not at home name likes to have… i tell them about my website and ask if my\n",
      "splitted_string: ['pet', 'name', 'she', 'is', '1', 'year', 'old', 'shiba', 'inu', 'when', 'her', 'caregiver', 'is', 'not', 'at', 'home', 'name', 'likes', 'to', 'have…', 'i', 'tell', 'them', 'about', 'my', 'website', 'and', 'ask', 'if', 'my']\n",
      "str_punc_removed: you’re welcome he was a mix of many breeds he is a 2 year old yellow lab when he was a mix of breeds but has the bark of a road\n",
      "splitted_string: ['you’re', 'welcome', 'he', 'was', 'a', 'mix', 'of', 'many', 'breeds', 'he', 'is', 'a', '2', 'year', 'old', 'yellow', 'lab', 'when', 'he', 'was', 'a', 'mix', 'of', 'breeds', 'but', 'has', 'the', 'bark', 'of', 'a', 'road']\n",
      "str_punc_removed: you’re welcome he was a mix of many breeds he is a 2 year old yellow lab when he was a mix of breeds but has the bark of a road\n",
      "splitted_string: ['you’re', 'welcome', 'he', 'was', 'a', 'mix', 'of', 'many', 'breeds', 'he', 'is', 'a', '2', 'year', 'old', 'yellow', 'lab', 'when', 'he', 'was', 'a', 'mix', 'of', 'breeds', 'but', 'has', 'the', 'bark', 'of', 'a', 'road']\n",
      "str_punc_removed: you’re welcome he was a mix of many breeds he is a 2 year old yellow lab when he was a mix of breeds but has the bark of a road\n",
      "splitted_string: ['you’re', 'welcome', 'he', 'was', 'a', 'mix', 'of', 'many', 'breeds', 'he', 'is', 'a', '2', 'year', 'old', 'yellow', 'lab', 'when', 'he', 'was', 'a', 'mix', 'of', 'breeds', 'but', 'has', 'the', 'bark', 'of', 'a', 'road']\n",
      "str_punc_removed: you’re welcome he was a mix of many breeds he is a 2 year old yellow lab when he was a mix of breeds but has the bark of a road\n",
      "splitted_string: ['you’re', 'welcome', 'he', 'was', 'a', 'mix', 'of', 'many', 'breeds', 'he', 'is', 'a', '2', 'year', 'old', 'yellow', 'lab', 'when', 'he', 'was', 'a', 'mix', 'of', 'breeds', 'but', 'has', 'the', 'bark', 'of', 'a', 'road']\n",
      "str_punc_removed: name he is wild and playful he likes to chase and play with his stuffed elephant the dir of human resources twitteruser he is a\n",
      "splitted_string: ['name', 'he', 'is', 'wild', 'and', 'playful', 'he', 'likes', 'to', 'chase', 'and', 'play', 'with', 'his', 'stuffed', 'elephant', 'the', 'dir', 'of', 'human', 'resources', 'twitteruser', 'he', 'is', 'a']\n",
      "str_punc_removed: name he is wild and playful he likes to chase and play with his stuffed elephant the dir of human resources twitteruser he is a\n",
      "splitted_string: ['name', 'he', 'is', 'wild', 'and', 'playful', 'he', 'likes', 'to', 'chase', 'and', 'play', 'with', 'his', 'stuffed', 'elephant', 'the', 'dir', 'of', 'human', 'resources', 'twitteruser', 'he', 'is', 'a']\n",
      "str_punc_removed: name he is wild and playful he likes to chase and play with his stuffed elephant the dir of human resources twitteruser he is a\n",
      "splitted_string: ['name', 'he', 'is', 'wild', 'and', 'playful', 'he', 'likes', 'to', 'chase', 'and', 'play', 'with', 'his', 'stuffed', 'elephant', 'the', 'dir', 'of', 'human', 'resources', 'twitteruser', 'he', 'is', 'a']\n",
      "str_punc_removed: name he is wild and playful he likes to chase and play with his stuffed elephant the dir of human resources twitteruser he is a\n",
      "splitted_string: ['name', 'he', 'is', 'wild', 'and', 'playful', 'he', 'likes', 'to', 'chase', 'and', 'play', 'with', 'his', 'stuffed', 'elephant', 'the', 'dir', 'of', 'human', 'resources', 'twitteruser', 'he', 'is', 'a']\n",
      "str_punc_removed: border terrier puppy name is loving and very protective of the people she loves name2 is a 3 year old maltipoo name3 is an 8 year old corgi\n",
      "splitted_string: ['border', 'terrier', 'puppy', 'name', 'is', 'loving', 'and', 'very', 'protective', 'of', 'the', 'people', 'she', 'loves', 'name2', 'is', 'a', '3', 'year', 'old', 'maltipoo', 'name3', 'is', 'an', '8', 'year', 'old', 'corgi']\n",
      "str_punc_removed: border terrier puppy name is loving and very protective of the people she loves name2 is a 3 year old maltipoo name3 is an 8 year old corgi\n",
      "splitted_string: ['border', 'terrier', 'puppy', 'name', 'is', 'loving', 'and', 'very', 'protective', 'of', 'the', 'people', 'she', 'loves', 'name2', 'is', 'a', '3', 'year', 'old', 'maltipoo', 'name3', 'is', 'an', '8', 'year', 'old', 'corgi']\n",
      "str_punc_removed: border terrier puppy name is loving and very protective of the people she loves name2 is a 3 year old maltipoo name3 is an 8 year old corgi\n",
      "splitted_string: ['border', 'terrier', 'puppy', 'name', 'is', 'loving', 'and', 'very', 'protective', 'of', 'the', 'people', 'she', 'loves', 'name2', 'is', 'a', '3', 'year', 'old', 'maltipoo', 'name3', 'is', 'an', '8', 'year', 'old', 'corgi']\n",
      "str_punc_removed: border terrier puppy name is loving and very protective of the people she loves name2 is a 3 year old maltipoo name3 is an 8 year old corgi\n",
      "splitted_string: ['border', 'terrier', 'puppy', 'name', 'is', 'loving', 'and', 'very', 'protective', 'of', 'the', 'people', 'she', 'loves', 'name2', 'is', 'a', '3', 'year', 'old', 'maltipoo', 'name3', 'is', 'an', '8', 'year', 'old', 'corgi']\n",
      "str_punc_removed: reason they did not rain but they will reign beautifully couldnt asked for a crime 80 years in the spring names last love absolutely love\n",
      "splitted_string: ['reason', 'they', 'did', 'not', 'rain', 'but', 'they', 'will', 'reign', 'beautifully', 'couldnt', 'asked', 'for', 'a', 'crime', '80', 'years', 'in', 'the', 'spring', 'names', 'last', 'love', 'absolutely', 'love']\n",
      "str_punc_removed: reason they did not rain but they will reign beautifully couldnt asked for a crime 80 years in the spring names last love absolutely love\n",
      "splitted_string: ['reason', 'they', 'did', 'not', 'rain', 'but', 'they', 'will', 'reign', 'beautifully', 'couldnt', 'asked', 'for', 'a', 'crime', '80', 'years', 'in', 'the', 'spring', 'names', 'last', 'love', 'absolutely', 'love']\n",
      "str_punc_removed: reason they did not rain but they will reign beautifully couldnt asked for a crime 80 years in the spring names last love absolutely love\n",
      "splitted_string: ['reason', 'they', 'did', 'not', 'rain', 'but', 'they', 'will', 'reign', 'beautifully', 'couldnt', 'asked', 'for', 'a', 'crime', '80', 'years', 'in', 'the', 'spring', 'names', 'last', 'love', 'absolutely', 'love']\n",
      "str_punc_removed: reason they did not rain but they will reign beautifully couldnt asked for a crime 80 years in the spring names last love absolutely love\n",
      "splitted_string: ['reason', 'they', 'did', 'not', 'rain', 'but', 'they', 'will', 'reign', 'beautifully', 'couldnt', 'asked', 'for', 'a', 'crime', '80', 'years', 'in', 'the', 'spring', 'names', 'last', 'love', 'absolutely', 'love']\n",
      "str_punc_removed: home surrounded by snow in my garden but city name people musnt such a good book rt twitteruser the literature of conflicted lands after a\n",
      "splitted_string: ['home', 'surrounded', 'by', 'snow', 'in', 'my', 'garden', 'but', 'city', 'name', 'people', 'musnt', 'such', 'a', 'good', 'book', 'rt', 'twitteruser', 'the', 'literature', 'of', 'conflicted', 'lands', 'after', 'a']\n",
      "str_punc_removed: home surrounded by snow in my garden but city name people musnt such a good book rt twitteruser the literature of conflicted lands after a\n",
      "splitted_string: ['home', 'surrounded', 'by', 'snow', 'in', 'my', 'garden', 'but', 'city', 'name', 'people', 'musnt', 'such', 'a', 'good', 'book', 'rt', 'twitteruser', 'the', 'literature', 'of', 'conflicted', 'lands', 'after', 'a']\n",
      "str_punc_removed: home surrounded by snow in my garden but city name people musnt such a good book rt twitteruser the literature of conflicted lands after a\n",
      "splitted_string: ['home', 'surrounded', 'by', 'snow', 'in', 'my', 'garden', 'but', 'city', 'name', 'people', 'musnt', 'such', 'a', 'good', 'book', 'rt', 'twitteruser', 'the', 'literature', 'of', 'conflicted', 'lands', 'after', 'a']\n",
      "str_punc_removed: home surrounded by snow in my garden but city name people musnt such a good book rt twitteruser the literature of conflicted lands after a\n",
      "splitted_string: ['home', 'surrounded', 'by', 'snow', 'in', 'my', 'garden', 'but', 'city', 'name', 'people', 'musnt', 'such', 'a', 'good', 'book', 'rt', 'twitteruser', 'the', 'literature', 'of', 'conflicted', 'lands', 'after', 'a']\n"
     ]
    }
   ],
   "source": [
    "#Finally, copy in your previous functions and write code that opens the file project_twitter_data.csv\n",
    "#which has the fake generated twitter data (the text of a tweet, the number of retweets of that tweet,\n",
    "#and the number of replies to that tweet). Your task is to build a sentiment classifier, which will detect how positive or negative each tweet is. \n",
    "#Copy the code from the code windows above, and put that in the top of this code window. \n",
    "#Now, you will write code to create a csv file called resulting_data.csv, which contains the Number of Retweets, Number of Replies, \n",
    "#Positive Score (which is how many happy words are in the tweet), Negative Score (which is how many angry words are in the tweet), \n",
    "#and the Net Score (how positive or negative the text is overall) for each tweet. The file should have those headers in that order. \n",
    "#Remember that there is another component to this project. You will upload the csv file to Excel or Google Sheets and produce a graph of the Net Score vs Number of Retweets. \n",
    "#Check Coursera for that portion of the assignment, if you’re accessing this textbook from Coursera.\n",
    "# lists of words to use\n",
    "positive_words = []\n",
    "with open(\"positive_words.txt\") as pos_f:\n",
    "    for lin in pos_f:\n",
    "        if lin[0] != ';' and lin[0] != '\\n':\n",
    "            positive_words.append(lin.strip())\n",
    "\n",
    "\n",
    "negative_words = []\n",
    "with open(\"negative_words.txt\") as pos_f:\n",
    "    for lin in pos_f:\n",
    "        if lin[0] != ';' and lin[0] != '\\n':\n",
    "            negative_words.append(lin.strip())\n",
    "            \n",
    "def strip_punctuation(x):\n",
    "    punctuation_chars = [\"'\", '\"', \",\", \".\", \"!\", \":\", \";\", '#', '@']\n",
    "    for ch in punctuation_chars:\n",
    "        x=x.replace(ch,\"\")\n",
    "    return x\n",
    "\n",
    "def get_pos(sentences):\n",
    "    lower_string=sentences.lower()                    ## As the list of positive words are in lower case\n",
    "    str_punc_removed=strip_punctuation(lower_string)  ##For Punctuation Removal\n",
    "    print(\"str_punc_removed:\",str_punc_removed)\n",
    "    splitted_string=str_punc_removed.split()          ## For splitting the sentence into words\n",
    "    print (\"splitted_string:\",splitted_string)\n",
    "    pos_count=0\n",
    "    for w in splitted_string:\n",
    "        if w in positive_words:\n",
    "            pos_count=pos_count+1\n",
    "    return pos_count\n",
    "\n",
    "def get_neg(sentences):\n",
    "    lower_string=sentences.lower()                    ## As the list of positive words are in lower case\n",
    "    str_punc_removed=strip_punctuation(lower_string)  ## For Punctuation Removal\n",
    "    print(\"str_punc_removed:\",str_punc_removed)\n",
    "    splitted_string=str_punc_removed.split()          ## For splitting the sentence into words\n",
    "    print (\"splitted_string:\",splitted_string)\n",
    "    neg_count=0\n",
    "    for w in splitted_string:\n",
    "        if w in negative_words:\n",
    "            neg_count=neg_count+1\n",
    "    return neg_count\n",
    "\n",
    "#The following code opens the twitter file\n",
    "fileref=open(\"project_twitter_data.csv\",\"r\")\n",
    "data = fileref.readlines()\n",
    "#The following code writes in the csv file named resulting_data\n",
    "outfile=open(\"resulting_data.csv\",\"w\")\n",
    "outfile.write(\"Number of Retweets, Number of Replies, Positive Score, Negative Score, Net Score\")\n",
    "outfile.write(\"\\n\")\n",
    "for i in data[1:]:\n",
    "    res_row=\"\"\n",
    "    splt=i.strip().split(\",\")           #Leading and trailing whitespaces are removed with strip\n",
    "    res_row=(\"{},{},{},{},{}\".format(splt[1], splt[2], get_pos(splt[0]), get_neg(splt[0]), (get_pos(splt[0])-get_neg(splt[0]))))\n",
    "    outfile.write(res_row)\n",
    "    outfile.write(\"\\n\")\n",
    "outfile.close()"
   ]
  },
  {
   "cell_type": "code",
   "execution_count": null,
   "metadata": {},
   "outputs": [],
   "source": [
    "#The variable nested contains a nested list. Assign ‘snake’ to the variable output using indexing.\n",
    "nested = [['dog', 'cat', 'horse'], ['frog', 'turtle', 'snake', 'gecko'], ['hamster', 'gerbil', 'rat', 'ferret']]\n",
    "output = nested[1][2]\n",
    "print(output)"
   ]
  },
  {
   "cell_type": "code",
   "execution_count": null,
   "metadata": {},
   "outputs": [],
   "source": [
    "\n",
    "lst = [['apple', 'orange', 'banana'], [5, 6, 7, 8, 9.9, 10], ['green', 'yellow', 'purple', 'red']]\n",
    "\n",
    "#Test to see if 'yellow' is in the third list of lst. Save to variable ``yellow``\n",
    "if 'yellow' in lst[2]:\n",
    "    yellow = True\n",
    "else:\n",
    "    yellow = False\n",
    "\n",
    "#Test to see if 4 is in the second list of lst. Save to variable ``four``\n",
    "\n",
    "if 4 in lst[1]:\n",
    "    four = True\n",
    "else:\n",
    "    four = False\n",
    "\n",
    "#Test to see if 'orange' is in the first element of lst. Save to variable ``orange``\n",
    "if 'orange' in lst[0]:\n",
    "    orange = True\n",
    "else:\n",
    "    orange = False\n"
   ]
  },
  {
   "cell_type": "code",
   "execution_count": null,
   "metadata": {},
   "outputs": [],
   "source": [
    "\n",
    "L = [[5, 8, 7], ['hello', 'hi', 'hola'], [6.6, 1.54, 3.99], ['small', 'large']]\n",
    "\n",
    "# Test if 'hola' is in the list L. Save to variable name test1\n",
    "test1 = 'hola' in L\n",
    "# Test if [5, 8, 7] is in the list L. Save to variable name test2\n",
    "test2 = [5,8,7] in L\n",
    "# Test if 6.6 is in the third element of list L. Save to variable name test3\n",
    "test3 = 6.6 in L[2]\n"
   ]
  },
  {
   "cell_type": "code",
   "execution_count": null,
   "metadata": {},
   "outputs": [],
   "source": [
    "#The variable nested_d contains a nested dictionary with the gold medal counts for the top four countries in the past three Olympics. \n",
    "#Assign the value of Great Britain’s gold medal count from the London Olympics to the variable london_gold. \n",
    "#Use indexing. Do not hardcode.\n",
    "\n",
    "nested_d = {'Beijing':{'China':51, 'USA':36, 'Russia':22, 'Great Britain':19}, 'London':{'USA':46, 'China':38, 'Great Britain':29, 'Russia':22}, 'Rio':{'USA':35, 'Great Britain':22, 'China':20, 'Germany':13}}\n",
    "london_gold = nested_d['London']['Great Britain']\n",
    "print(london_gold)\n"
   ]
  },
  {
   "cell_type": "code",
   "execution_count": null,
   "metadata": {},
   "outputs": [],
   "source": [
    "\n",
    "\n",
    "sports = {'swimming': ['butterfly', 'breaststroke', 'backstroke', 'freestyle'], 'diving': ['springboard', 'platform', 'synchronized'], 'track': ['sprint', 'distance', 'jumps', 'throws'], 'gymnastics': {'women':['vault', 'floor', 'uneven bars', 'balance beam'], 'men': ['vault', 'parallel bars', 'floor', 'rings']}}\n",
    "\n",
    "# Assign the string 'backstroke' to the name v1\n",
    "v1 = sports['swimming'][2]\n",
    "# Assign the string 'platform' to the name v2\n",
    "v2 = sports['diving'][1]\n",
    "# Assign the list ['vault', 'floor', 'uneven bars', 'balance beam'] to the name v3\n",
    "v3=sports['gymnastics']['women']\n",
    "# Assign the string 'rings' to the name v4\n",
    "v4=sports['gymnastics']['men'][3]"
   ]
  },
  {
   "cell_type": "code",
   "execution_count": null,
   "metadata": {},
   "outputs": [],
   "source": [
    "\n",
    "#Given the dictionary, nested_d, save the medal count for the USA from all three Olympics in the dictionary to the list US_count.\n",
    "nested_d = {'Beijing':{'China':51, 'USA':36, 'Russia':22, 'Great Britain':19}, 'London':{'USA':46, 'China':38, 'Great Britain':29, 'Russia':22}, 'Rio':{'USA':35, 'Great Britain':22, 'China':20, 'Germany':13}}\n",
    "\n",
    "US_count = []\n",
    "US_count.append(nested_d['Beijing']['USA'])\n",
    "US_count.append(nested_d['London']['USA'])\n",
    "US_count.append(nested_d['Rio']['USA'])\n",
    "print(US_count)\n"
   ]
  },
  {
   "cell_type": "code",
   "execution_count": null,
   "metadata": {},
   "outputs": [],
   "source": [
    "#Iterate through the contents of l_of_l and assign the third element of sublist to a new list called third.\n",
    "\n",
    "l_of_l = [['purple', 'mauve', 'blue'], ['red', 'maroon', 'blood orange', 'crimson'], ['sea green', 'cornflower', 'lavender', 'indigo'], ['yellow', 'amarillo', 'mac n cheese', 'golden rod']]\n",
    "\n",
    "third = []\n",
    "for list in l_of_l:\n",
    "    third.append(list[2])\n",
    "print(third)"
   ]
  },
  {
   "cell_type": "code",
   "execution_count": null,
   "metadata": {},
   "outputs": [],
   "source": [
    "#Given below is a list of lists of athletes. Create a list, t, that saves only the athlete’s name if it contains the letter “t”. \n",
    "#If it does not contain the letter “t”, save the athlete name into list other.\n",
    "athletes = [['Phelps', 'Lochte', 'Schooling', 'Ledecky', 'Franklin'], ['Felix', 'Bolt', 'Gardner', 'Eaton'], ['Biles', 'Douglas', 'Hamm', 'Raisman', 'Mikulak', 'Dalton']]\n",
    "t=[]\n",
    "other=[]\n",
    "\n",
    "for list in athletes:\n",
    "    for name in list:\n",
    "        if 't' in name:\n",
    "            t.append(name)\n",
    "        else:\n",
    "            other.append(name)\n",
    "\n",
    "print(t)\n",
    "print(other)\n",
    "\n",
    "#TBD"
   ]
  },
  {
   "cell_type": "code",
   "execution_count": 12,
   "metadata": {},
   "outputs": [
    {
     "name": "stdout",
     "output_type": "stream",
     "text": [
      "[['hi', 'bye', 'hi', 'bye'], 'hellohello', 'goodbyegoodbye', [9, 2, 9, 2], 8]\n"
     ]
    }
   ],
   "source": [
    "#Using map, create a list assigned to the variable greeting_doubled that doubles each element in the list lst.\n",
    "lst = [[\"hi\", \"bye\"], \"hello\", \"goodbye\", [9, 2], 4]\n",
    "def double(value):\n",
    "    return value*2\n",
    "greeting_doubled = list(map(double,lst))\n",
    "print(greeting_doubled)"
   ]
  },
  {
   "cell_type": "code",
   "execution_count": 13,
   "metadata": {},
   "outputs": [
    {
     "name": "stdout",
     "output_type": "stream",
     "text": [
      "['USA', 'ESP', 'CHN', 'JPN', 'MEX', 'CAN', 'RUS', 'RSA', 'JAM']\n"
     ]
    }
   ],
   "source": [
    "#Below, we have provided a list of strings called abbrevs. Use map to produce a new list called abbrevs_upper that contains all the same strings in upper case.\n",
    "abbrevs = [\"usa\", \"esp\", \"chn\", \"jpn\", \"mex\", \"can\", \"rus\", \"rsa\", \"jam\"]\n",
    "\n",
    "def transformer(str):\n",
    "    return str.upper()\n",
    "abbrevs_upper = list(map(transformer,abbrevs))\n",
    "print(abbrevs_upper)"
   ]
  },
  {
   "cell_type": "code",
   "execution_count": 15,
   "metadata": {},
   "outputs": [
    {
     "name": "stdout",
     "output_type": "stream",
     "text": [
      "['watermelon', 'kiwi', 'strawberries']\n"
     ]
    }
   ],
   "source": [
    "#Write code to assign to the variable filter_testing all the elements in lst_check that have a w in them using filter.\n",
    "\n",
    "lst_check = ['plums', 'watermelon', 'kiwi', 'strawberries', 'blueberries', 'peaches', 'apples', 'mangos', 'papaya']\n",
    "\n",
    "filter_testing = list(filter(lambda word: 'w' in word, lst_check))\n",
    "print(filter_testing)"
   ]
  },
  {
   "cell_type": "code",
   "execution_count": 18,
   "metadata": {},
   "outputs": [
    {
     "name": "stdout",
     "output_type": "stream",
     "text": [
      "['halloween', 'wagon', 'moon']\n"
     ]
    }
   ],
   "source": [
    "#Using filter, filter lst so that it only contains words containing the letter “o”. Assign to variable lst2. Do not hardcode this.\n",
    "lst = [\"witch\", \"halloween\", \"pumpkin\", \"cat\", \"candy\", \"wagon\", \"moon\"]\n",
    "lst2 = list(filter(lambda word: 'o' in word,lst))\n",
    "print(lst2)"
   ]
  },
  {
   "cell_type": "code",
   "execution_count": 1,
   "metadata": {},
   "outputs": [
    {
     "name": "stdout",
     "output_type": "stream",
     "text": [
      "[12, 34, 21, 42]\n",
      "[12, 34, 21, 42]\n"
     ]
    }
   ],
   "source": [
    "# The for loop below produces a list of numbers greater than 10. Below the given code, use list comprehension to accomplish the same thing. \n",
    "# Assign it the the variable lst2. Only one line of code is needed.\n",
    "\n",
    "L = [12, 34, 21, 4, 6, 9, 42]\n",
    "lst = []\n",
    "for x in L:\n",
    "    if x > 10:\n",
    "        lst.append(x)\n",
    "print(lst)\n",
    "\n",
    "lst2 = [x for x in L if x >10]\n",
    "print(lst2)\n"
   ]
  },
  {
   "cell_type": "code",
   "execution_count": 4,
   "metadata": {},
   "outputs": [
    {
     "name": "stdout",
     "output_type": "stream",
     "text": [
      "[{'name': 'Lauren', 'class standing': 'Junior', 'major': 'Information Science'}, {'name': 'Ayo', 'class standing': \"Bachelor's\", 'major': 'Information Science'}, {'name': 'Kathryn', 'class standing': 'Senior', 'major': 'Sociology'}, {'name': 'Nick', 'class standing': 'Junior', 'major': 'Computer Science'}, {'name': 'Gladys', 'class standing': 'Sophomore', 'major': 'History'}, {'name': 'Adam', 'major': 'Violin Performance', 'class standing': 'Senior'}]\n",
      "['Lauren', 'Ayo', 'Kathryn', 'Nick', 'Gladys', 'Adam']\n"
     ]
    }
   ],
   "source": [
    "#Write code to assign to the variable compri all the values of the key name in any of the sub-dictionaries in the dictionary tester. \n",
    "#Do this using a list comprehension.\n",
    "tester = {'info': [{\"name\": \"Lauren\", 'class standing': 'Junior', 'major': \"Information Science\"},{'name': 'Ayo', 'class standing': \"Bachelor's\", 'major': 'Information Science'}, {'name': 'Kathryn', 'class standing': 'Senior', 'major': 'Sociology'}, {'name': 'Nick', 'class standing': 'Junior', 'major': 'Computer Science'}, {'name': 'Gladys', 'class standing': 'Sophomore', 'major': 'History'}, {'name': 'Adam', 'major': 'Violin Performance', 'class standing': 'Senior'}]}\n",
    "\n",
    "innerlist = tester['info']\n",
    "print(innerlist)\n",
    "\n",
    "compri = [d['name'] for d in innerlist]\n",
    "\n",
    "print(compri)"
   ]
  },
  {
   "cell_type": "code",
   "execution_count": 7,
   "metadata": {},
   "outputs": [
    {
     "name": "stdout",
     "output_type": "stream",
     "text": [
      "[18, 57, 103]\n"
     ]
    }
   ],
   "source": [
    "#Below we have provided two lists of numbers, L1 and L2. Using zip and list comprehension, create a new list, L3, \n",
    "#that sums the two numbers if the number from L1 is greater than 10 and the number from L2 is less than 5. \n",
    "#This can be accomplished in one line of code\n",
    "\n",
    "L1 = [1, 5, 2, 16, 32, 3, 54, 8, 100]\n",
    "L2 = [1, 3, 10, 2, 42, 2, 3, 4, 3]\n",
    "\n",
    "L3= [x1+x2 for (x1,x2) in list(zip(L1,L2)) if x1 >10 and x2 <5]\n",
    "print(L3)"
   ]
  },
  {
   "cell_type": "code",
   "execution_count": 8,
   "metadata": {},
   "outputs": [
    {
     "name": "stdout",
     "output_type": "stream",
     "text": [
      "['Fruit: plums', 'Fruit: watermelon', 'Fruit: kiwi', 'Fruit: strawberries', 'Fruit: blueberries', 'Fruit: peaches', 'Fruit: apples', 'Fruit: mangos', 'Fruit: papaya']\n"
     ]
    }
   ],
   "source": [
    "#Write code to assign to the variable map_testing all the elements in lst_check while adding the string “Fruit: ” \n",
    "#to the beginning of each element using mapping.\n",
    "lst_check = ['plums', 'watermelon', 'kiwi', 'strawberries', 'blueberries', 'peaches', 'apples', 'mangos', 'papaya']\n",
    "\n",
    "def addfruit (str):\n",
    "    return 'Fruit: '+str\n",
    "map_testing = list(map(addfruit, lst_check))\n",
    "print(map_testing)"
   ]
  },
  {
   "cell_type": "code",
   "execution_count": 10,
   "metadata": {},
   "outputs": [
    {
     "name": "stdout",
     "output_type": "stream",
     "text": [
      "['Brazil', 'Botswana', 'Britain', 'Bangladesh', 'Belarus', 'Belgium']\n"
     ]
    }
   ],
   "source": [
    "#Below, we have provided a list of strings called countries. Use filter to produce a list called b_countries that only contains the strings\n",
    "# from countries that begin with B.\n",
    "\n",
    "countries = ['Canada', 'Mexico', 'Brazil', 'Chile', 'Denmark', 'Botswana', 'Spain', 'Britain', 'Portugal', 'Russia', 'Thailand', 'Bangladesh', 'Nigeria', 'Argentina', 'Belarus', 'Laos', 'Australia', 'Panama', 'Egypt', 'Morocco', 'Switzerland', 'Belgium']\n",
    "b_countries = list(filter(lambda word: 'B' in word, countries))\n",
    "print(b_countries)"
   ]
  },
  {
   "cell_type": "code",
   "execution_count": 12,
   "metadata": {},
   "outputs": [
    {
     "name": "stdout",
     "output_type": "stream",
     "text": [
      "['Jon', 'Cersei', 'Arya', 'Robb', 'Jamie', 'Daenerys', 'Sansa', 'Margaery', 'Eddard', 'Tyrion', 'Joffrey', 'Ramsey', 'Peter']\n"
     ]
    }
   ],
   "source": [
    "#Below, we have provided a list of tuples that contain the names of Game of Thrones characters. \n",
    "#Using list comprehension, create a list of strings called first_names that contains only the first names of everyone in the original list.\n",
    "\n",
    "\n",
    "people = [('Snow', 'Jon'), ('Lannister', 'Cersei'), ('Stark', 'Arya'), ('Stark', 'Robb'), ('Lannister', 'Jamie'), ('Targaryen', 'Daenerys'), ('Stark', 'Sansa'), ('Tyrell', 'Margaery'), ('Stark', 'Eddard'), ('Lannister', 'Tyrion'), ('Baratheon', 'Joffrey'), ('Bolton', 'Ramsey'), ('Baelish', 'Peter')]\n",
    "\n",
    "first_names = [name[1] for name in people]\n",
    "print(first_names)"
   ]
  },
  {
   "cell_type": "code",
   "execution_count": 13,
   "metadata": {},
   "outputs": [
    {
     "name": "stdout",
     "output_type": "stream",
     "text": [
      "['Tommy', 'Carl', 'Bob', 'Sue']\n"
     ]
    }
   ],
   "source": [
    "#Below, we have provided a list of tuples that contain students’ names and their final grades in PYTHON 101. \n",
    "#Using list comprehension, create a new list passed that contains the names of students who passed the class (had a final grade of 70 or greater).\n",
    "\n",
    "students = [('Tommy', 95), ('Linda', 63), ('Carl', 70), ('Bob', 100), ('Raymond', 50), ('Sue', 75)]\n",
    "passed = [name[0] for name in students if name[1]>=70]\n",
    "print(passed)"
   ]
  },
  {
   "cell_type": "code",
   "execution_count": 19,
   "metadata": {},
   "outputs": [
    {
     "name": "stdout",
     "output_type": "stream",
     "text": [
      "[('left', 'right'), ('front', 'back')]\n"
     ]
    }
   ],
   "source": [
    "#Write code using zip and filter so that these lists (l1 and l2) are combined into one big list and assigned to the variable opposites \n",
    "#if they are both longer than 3 characters each.\n",
    "\n",
    "\n",
    "l1 = ['left', 'up', 'front']\n",
    "l2 = ['right', 'down', 'back']\n",
    "\n",
    "opposites = list(zip(l1,l2))\n",
    "opposites = list(filter(lambda x: len(x[0])>3 and len(x[1])>3,opposites))\n",
    "print(opposites)"
   ]
  },
  {
   "cell_type": "code",
   "execution_count": 21,
   "metadata": {},
   "outputs": [
    {
     "name": "stdout",
     "output_type": "stream",
     "text": [
      "[('golden retriever', 10000), ('white tailed deer', 90000), ('black rhino', 1000), ('brown squirrel', 2000000), ('field mouse', 500000), ('orangutan', 500), ('sumatran elephant', 1200), ('rainbow trout', 8000), ('black bear', 12000), ('blue whale', 2300), ('water moccasin', 7500), ('giant panda', 100), ('green turtle', 1800), ('blue jay', 9500), ('japanese beetle', 125000)]\n",
      "['black rhino', 'orangutan', 'sumatran elephant', 'blue whale', 'giant panda', 'green turtle']\n"
     ]
    }
   ],
   "source": [
    "#Below, we have provided a species list and a population list. Use zip to combine these lists into one list of tuples called pop_info. \n",
    "#From this list, create a new list called endangered that contains the names of species whose populations are below 2500.\n",
    "\n",
    "\n",
    "species = ['golden retriever', 'white tailed deer', 'black rhino', 'brown squirrel', 'field mouse', 'orangutan', 'sumatran elephant', 'rainbow trout', 'black bear', 'blue whale', 'water moccasin', 'giant panda', 'green turtle', 'blue jay', 'japanese beetle']\n",
    "\n",
    "population = [10000, 90000, 1000, 2000000, 500000, 500, 1200, 8000, 12000, 2300, 7500, 100, 1800, 9500, 125000]\n",
    "\n",
    "pop_info = list(zip(species,population))\n",
    "endangered = [name[0] for name in pop_info if name[1]<2500]\n",
    "print(pop_info)\n",
    "print(endangered)"
   ]
  },
  {
   "cell_type": "code",
   "execution_count": null,
   "metadata": {},
   "outputs": [],
   "source": [
    "#This project will take you through the process of mashing up data from two different APIs to make movie recommendations. \n",
    "#The TasteDive API lets you provide a movie (or bands, TV shows, etc.) as a query input, and returns a set of related items. \n",
    "#The OMDB API lets you provide a movie title as a query input and get back data about the movie, including scores from various review sites (Rotten Tomatoes, IMDB, etc.).\n",
    "\n",
    "#You will put those two together. You will use TasteDive to get related movies for a whole list of titles. \n",
    "#You’ll combine the resulting lists of related movies, and sort them according to their Rotten Tomatoes scores (which will require making API calls to the OMDB API.)\n",
    "\n",
    "#To avoid problems with rate limits and site accessibility, we have provided a cache file with results for all the queries you need to make to both OMDB and TasteDive. \n",
    "#Just use requests_with_caching.get() rather than requests.get(). If you’re having trouble, you may not be formatting your queries properly, or you may not be asking for data that exists in our cache.\n",
    "#We will try to provide as much information as we can to help guide you to form queries for which data exists in the cache.\n",
    "\n",
    "#Your first task will be to fetch data from TasteDive. The documentation for the API is at https://tastedive.com/read/api.\n",
    "\n",
    "#Define a function, called get_movies_from_tastedive. It should take one input parameter, a string that is the name of a movie or music artist. \n",
    "#The function should return the 5 TasteDive results that are associated with that string; be sure to only get movies, not other kinds of media. \n",
    "#It will be a python dictionary with just one key, ‘Similar’.\n",
    "\n",
    "#Try invoking your function with the input “Black Panther”.\n",
    "\n",
    "#HINT: Be sure to include only q, type, and limit as parameters in order to extract data from the cache. If any other parameters are included, then the function will not be able to recognize the data that you’re attempting to pull from the cache. Remember, you will not need an api key in order to complete the project, because all data will be found in the cache.\n",
    "\n",
    "\n",
    "\n"
   ]
  },
  {
   "cell_type": "code",
   "execution_count": null,
   "metadata": {},
   "outputs": [],
   "source": [
    "\n",
    "import requests_with_caching\n",
    "import json\n",
    "def get_movies_from_tastedive(title):\n",
    "    url = 'https://tastedive.com/api/similar'\n",
    "    param = {}\n",
    "    param['q']= title\n",
    "    param['type']= 'movies'\n",
    "    param['limit']= 5\n",
    "    \n",
    "    this_page_cache = requests_with_caching.get(url, params=param)\n",
    "    return json.loads(this_page_cache.text)\n",
    "\n",
    "get_movies_from_tastedive(\"Bridesmaids\")\n",
    "\n",
    "get_movies_from_tastedive(\"Black Panther\")"
   ]
  },
  {
   "cell_type": "code",
   "execution_count": null,
   "metadata": {},
   "outputs": [],
   "source": [
    "#Please copy the completed function from above into this active code window. \n",
    "#Next, you will need to write a function that extracts just the list of movie titles from a dictionary returned by get_movies_from_tastedive. \n",
    "#Call it extract_movie_titles.\n",
    "\n",
    "# some invocations that we use in the automated tests; uncomment these if you are getting errors and want better error messages\n",
    "import requests_with_caching\n",
    "import json\n",
    "def get_movies_from_tastedive(title):\n",
    "    url = 'https://tastedive.com/api/similar'\n",
    "    param = {}\n",
    "    param['q']= title\n",
    "    param['type']= 'movies'\n",
    "    param['limit']= 5\n",
    "    \n",
    "    this_page_cache = requests_with_caching.get(url, params=param)\n",
    "    return json.loads(this_page_cache.text)\n",
    "\n",
    "def extract_movie_titles(dic):\n",
    "    return ([i['Name'] for i in dic['Similar']['Results']])\n",
    "\n",
    "extract_movie_titles(get_movies_from_tastedive(\"Tony Bennett\"))\n",
    "print(extract_movie_titles(get_movies_from_tastedive(\"Tony Bennett\")))\n",
    "extract_movie_titles(get_movies_from_tastedive(\"Black Panther\"))"
   ]
  },
  {
   "cell_type": "code",
   "execution_count": null,
   "metadata": {},
   "outputs": [],
   "source": [
    "#Please copy the completed functions from the two code windows above into this active code window.\n",
    "#Next, you’ll write a function, called get_related_titles. It takes a list of movie titles as input. \n",
    "#It gets five related movies for each from TasteDive, extracts the titles for all of them, and combines them all into a single list. \n",
    "#Don’t include the same movie twice.\n",
    "\n",
    "# some invocations that we use in the automated tests; uncomment these if you are getting errors and want better error messages\n",
    "import requests_with_caching\n",
    "import json\n",
    "def get_movies_from_tastedive(title):\n",
    "    url = 'https://tastedive.com/api/similar'\n",
    "    param = {}\n",
    "    param['q']= title\n",
    "    param['type']= 'movies'\n",
    "    param['limit']= 5\n",
    "    \n",
    "    this_page_cache = requests_with_caching.get(url, params=param)\n",
    "    return json.loads(this_page_cache.text)\n",
    "\n",
    "def extract_movie_titles(dic):\n",
    "    return ([i['Name'] for i in dic['Similar']['Results']])\n",
    "\n",
    "def get_related_titles (movie_list):\n",
    "    li =[]\n",
    "    for movie in movie_list:\n",
    "        li.extend(extract_movie_titles(get_movies_from_tastedive(movie)))\n",
    "    return list(set(li))\n",
    "\n",
    "\n",
    "get_related_titles([\"Black Panther\", \"Captain Marvel\"])\n",
    "print(get_related_titles([\"Black Panther\", \"Captain Marvel\"]))\n",
    "get_related_titles([])"
   ]
  },
  {
   "cell_type": "code",
   "execution_count": null,
   "metadata": {},
   "outputs": [],
   "source": [
    "#Define a function called get_movie_data. It takes in one parameter which is a string that should represent the title of a movie you want to search. \n",
    "#The function should return a dictionary with information about that movie.\n",
    "\n",
    "#Again, use requests_with_caching.get(). For the queries on movies that are already in the cache, you won’t need an api key.\n",
    "#You will need to provide the following keys: t and r. As with the TasteDive cache, be sure to only include those two parameters in order to extract existing data from the cache."
   ]
  },
  {
   "cell_type": "code",
   "execution_count": null,
   "metadata": {},
   "outputs": [],
   "source": [
    "# some invocations that we use in the automated tests; uncomment these if you are getting errors and want better error messages\n",
    "\n",
    "import requests_with_caching\n",
    "import json\n",
    "def get_movie_data(title):\n",
    "    url=\"http://www.omdbapi.com/\"\n",
    "    param = {}\n",
    "    param['t'] = title\n",
    "    param['r'] = 'json'\n",
    "    cache = requests_with_caching.get(url, params = param)\n",
    "    \n",
    "    return json.loads(cache.text)\n",
    "\n",
    "get_movie_data(\"Venom\")\n",
    "# get_movie_data(\"Baby Mama\")"
   ]
  },
  {
   "cell_type": "code",
   "execution_count": null,
   "metadata": {},
   "outputs": [],
   "source": [
    "#Please copy the completed function from above into this active code window. Now write a function called get_movie_rating. \n",
    "#It takes an OMDB dictionary result for one movie and extracts the Rotten Tomatoes rating as an integer. \n",
    "#For example, if given the OMDB dictionary for “Black Panther”, it would return 97. If there is no Rotten Tomatoes rating, return 0.\n",
    "\n",
    "import requests_with_caching\n",
    "import json\n",
    "def get_movie_data(title):\n",
    "    url=\"http://www.omdbapi.com/\"\n",
    "    param = {}\n",
    "    param['t'] = title\n",
    "    param['r'] = 'json'\n",
    "    cache = requests_with_caching.get(url, params = param)\n",
    "    \n",
    "    return json.loads(cache.text)\n",
    "\n",
    "def get_movie_rating(title):\n",
    "    ranking = title['Ratings']\n",
    "    for title_item in ranking:\n",
    "        if title_item['Source'] == \"Rotten Tomatoes\":\n",
    "            return int(title_item['Value'][:-1])\n",
    "    return 0\n",
    "\n",
    "print(get_movie_rating(get_movie_data(\"Deadpool 2\")))"
   ]
  },
  {
   "cell_type": "code",
   "execution_count": null,
   "metadata": {},
   "outputs": [],
   "source": [
    "#Now, you’ll put it all together. Don’t forget to copy all of the functions that you have previously defined into this code window. \n",
    "#Define a function get_sorted_recommendations. It takes a list of movie titles as an input. \n",
    "#It returns a sorted list of related movie titles as output, up to five related movies for each input movie title. \n",
    "#The movies should be sorted in descending order by their Rotten Tomatoes rating, as returned by the get_movie_rating function. \n",
    "#Break ties in reverse alphabetic order, so that ‘Yahşi Batı’ comes before ‘Eyyvah Eyvah’."
   ]
  },
  {
   "cell_type": "code",
   "execution_count": null,
   "metadata": {},
   "outputs": [],
   "source": [
    "\n",
    "# some invocations that we use in the automated tests; uncomment these if you are getting errors and want better error messages\n",
    "### the notes below is different from above but only the variable names changed\n",
    "### the logic follows the same\n",
    "\n",
    "import requests_with_caching\n",
    "import json\n",
    "\n",
    "def get_movies_from_tastedive(title):\n",
    "    endpoint = 'https://tastedive.com/api/similar'\n",
    "    param = {}\n",
    "    param['q'] = title\n",
    "    param['limit'] = 5\n",
    "    param['type'] = 'movies'\n",
    "    this_page_cache = requests_with_caching.get(endpoint, params=param)\n",
    "    return json.loads(this_page_cache.text)\n",
    "\n",
    "def extract_movie_titles(dic):\n",
    "    list = []\n",
    "    for i in dic['Similar']['Results']:\n",
    "        list.append(i['Name'])\n",
    "    return(list)\n",
    "\n",
    "def get_related_titles(titles_list):\n",
    "    list = []\n",
    "    for i in titles_list:\n",
    "        new_list = extract_movie_titles(get_movies_from_tastedive(i))\n",
    "        for i in new_list:\n",
    "            if i not in list:\n",
    "                list.append(i)\n",
    "    print(list)\n",
    "    return list\n",
    "\n",
    "def get_movie_data(title):\n",
    "    endpoint = 'http://www.omdbapi.com/'\n",
    "    param = {}\n",
    "    param['t'] = title\n",
    "    param['r'] = 'json'\n",
    "    this_page_cache = requests_with_caching.get(endpoint, params=param)\n",
    "    return json.loads(this_page_cache.text)\n",
    "\n",
    "# some invocations that we use in the automated tests; uncomment these if you are getting errors and want better error messages\n",
    "# get_movie_rating(get_movie_data(\"Deadpool 2\"))\n",
    "\n",
    "def get_movie_rating(data):\n",
    "    rating = 0\n",
    "    for i in data['Ratings']:\n",
    "        if i['Source'] == 'Rotten Tomatoes':\n",
    "            rating = int(i['Value'][:-1])\n",
    "            #print(rating)\n",
    "    return rating \n",
    "\n",
    "def get_sorted_recommendations(list):\n",
    "    new_list = get_related_titles(list)\n",
    "    new_dict = {}\n",
    "    for i in new_list:\n",
    "        rating = get_movie_rating(get_movie_data(i))\n",
    "        new_dict[i] = rating\n",
    "    print(new_dict)\n",
    "    #print(sorted(new_dict, reverse=True))\n",
    "    return [i[0] for i in sorted(new_dict.items(), key=lambda item: (item[1], item[0]), reverse=True)]\n",
    "\n",
    "\n"
   ]
  },
  {
   "cell_type": "code",
   "execution_count": null,
   "metadata": {},
   "outputs": [],
   "source": [
    "#Create a class called NumberSet that accepts 2 integers as input, and defines two instance variables: num1 and num2, which hold each of the input integers. \n",
    "#Then, create an instance of NumberSet where its num1 is 6 and its num2 is 10. Save this instance to a variable t.\n",
    "class NumberSet:\n",
    "    def __init__(self, x, y):\n",
    "        self.num1 = x\n",
    "        self.num2 = y\n",
    "        \n",
    "t = NumberSet(6,10)"
   ]
  },
  {
   "cell_type": "code",
   "execution_count": null,
   "metadata": {},
   "outputs": [],
   "source": [
    "#Create a class called Animal that accepts two numbers as inputs and assigns them respectively to two instance variables: arms and legs. \n",
    "#Create an instance method called limbs that, when called, returns the total number of limbs the animal has. \n",
    "#To the variable name spider, assign an instance of Animal that has 4 arms and 4 legs. \n",
    "#Call the limbs method on the spider instance and save the result to the variable name spidlimbs.\n",
    "\n",
    "class Animal:\n",
    "    def __init__ (self, x, y):\n",
    "        self.arms = x\n",
    "        self.legs = y\n",
    "    def limbs(self):\n",
    "        return self.arms +self.legs\n",
    "    \n",
    "spider = Animal(4,4)\n",
    "spidlimbs = (spider.limbs())"
   ]
  }
 ],
 "metadata": {
  "kernelspec": {
   "display_name": ".venv",
   "language": "python",
   "name": "python3"
  },
  "language_info": {
   "codemirror_mode": {
    "name": "ipython",
    "version": 3
   },
   "file_extension": ".py",
   "mimetype": "text/x-python",
   "name": "python",
   "nbconvert_exporter": "python",
   "pygments_lexer": "ipython3",
   "version": "3.9.6"
  }
 },
 "nbformat": 4,
 "nbformat_minor": 2
}
