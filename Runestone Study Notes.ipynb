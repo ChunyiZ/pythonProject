{
 "cells": [
  {
   "cell_type": "code",
   "execution_count": 18,
   "metadata": {},
   "outputs": [],
   "source": [
    "#rainfall_mi is a string that contains the average number of inches of rainfall in Michigan \n",
    "#for every month (in inches) with every month separated by a comma. \n",
    "#Write code to compute the number of months that have more than 3 inches of rainfall. \n",
    "#Store the result in the variable num_rainy_months. In other words, count the number of items with values > 3.0.\n",
    "\n",
    "rainfall_mi = \"1.65, 1.46, 2.05, 3.03, 3.35, 3.46, 2.83, 3.23, 3.5, 2.52, 2.8, 1.85\"\n",
    "\n",
    "rain = rainfall_mi.split(\",\")\n",
    "rain_float = [float(i) for i in rain]\n",
    "num_rainy_months = 0\n",
    "for y in rain_float:\n",
    "    if y > 3:\n",
    "        num_rainy_months +=1\n",
    "\n",
    "\n"
   ]
  },
  {
   "cell_type": "code",
   "execution_count": 19,
   "metadata": {},
   "outputs": [],
   "source": [
    "#The variable sentence stores a string. \n",
    "#Write code to determine how many words in sentence start and end with the same letter, including one-letter words. \n",
    "#Store the result in the variable same_letter_count.\n",
    "\n",
    "sentence = \"students flock to the arb for a variety of outdoor activities such as jogging and picnicking\"\n",
    "sentencelist = sentence.split()\n",
    "same_letter_count = 0\n",
    "for i in sentencelist:\n",
    "    if i[0] ==i[-1]:\n",
    "        same_letter_count +=1\n"
   ]
  },
  {
   "cell_type": "code",
   "execution_count": 20,
   "metadata": {},
   "outputs": [],
   "source": [
    "#Write code to count the number of strings in list items that have the character w in it. \n",
    "#Assign that number to the variable acc_num.\n",
    "\n",
    "#HINT 1: Use the accumulation pattern!\n",
    "\n",
    "#HINT 2: the in operator checks whether a substring is present in a string.\n",
    "\n",
    "items = [\"whirring\", \"wow!\", \"calendar\", \"wry\", \"glass\", \"\", \"llama\",\"tumultuous\",\"owing\"]\n",
    "acc_num = 0 \n",
    "for i in items:\n",
    "    if \"w\" in i:\n",
    "        acc_num+=1\n"
   ]
  },
  {
   "cell_type": "code",
   "execution_count": 21,
   "metadata": {},
   "outputs": [],
   "source": [
    "#Write code that counts the number of words in sentence that contain either an “a” or an “e”. \n",
    "#Store the result in the variable num_a_or_e.\n",
    "\n",
    "#Note 1: be sure to not double-count words that contain both an a and an e.\n",
    "\n",
    "#HINT 1: Use the in operator.\n",
    "\n",
    "#HINT 2: You can either use or or elif.\n",
    "sentence = \"python is a high level general purpose programming language that can be applied to many different classes of problems.\"\n",
    "sentencelist = sentence.split()\n",
    "num_a_or_e = 0\n",
    "num_a_and_e = 0\n",
    "for i in sentencelist:\n",
    "    if (\"a\" in i)  or (\"e\" in i):\n",
    "        num_a_or_e+=1\n",
    "\n",
    "\n",
    "   \n",
    "\n",
    "\n",
    "\n",
    "\n",
    "\n"
   ]
  },
  {
   "cell_type": "code",
   "execution_count": 22,
   "metadata": {},
   "outputs": [
    {
     "ename": "TypeError",
     "evalue": "'list' object is not callable",
     "output_type": "error",
     "traceback": [
      "\u001b[0;31m---------------------------------------------------------------------------\u001b[0m",
      "\u001b[0;31mTypeError\u001b[0m                                 Traceback (most recent call last)",
      "Cell \u001b[0;32mIn[22], line 8\u001b[0m\n\u001b[1;32m      5\u001b[0m s \u001b[38;5;241m=\u001b[39m \u001b[38;5;124m\"\u001b[39m\u001b[38;5;124msinging in the rain and playing in the rain are two entirely different situations but both can be fun\u001b[39m\u001b[38;5;124m\"\u001b[39m\n\u001b[1;32m      6\u001b[0m vowels \u001b[38;5;241m=\u001b[39m [\u001b[38;5;124m'\u001b[39m\u001b[38;5;124ma\u001b[39m\u001b[38;5;124m'\u001b[39m,\u001b[38;5;124m'\u001b[39m\u001b[38;5;124me\u001b[39m\u001b[38;5;124m'\u001b[39m,\u001b[38;5;124m'\u001b[39m\u001b[38;5;124mi\u001b[39m\u001b[38;5;124m'\u001b[39m,\u001b[38;5;124m'\u001b[39m\u001b[38;5;124mo\u001b[39m\u001b[38;5;124m'\u001b[39m,\u001b[38;5;124m'\u001b[39m\u001b[38;5;124mu\u001b[39m\u001b[38;5;124m'\u001b[39m]\n\u001b[0;32m----> 8\u001b[0m ss\u001b[38;5;241m=\u001b[39m\u001b[38;5;28;43mlist\u001b[39;49m\u001b[43m(\u001b[49m\u001b[43ms\u001b[49m\u001b[43m)\u001b[49m\n\u001b[1;32m      9\u001b[0m num_vowels \u001b[38;5;241m=\u001b[39m \u001b[38;5;241m0\u001b[39m\n\u001b[1;32m     10\u001b[0m \u001b[38;5;28;01mfor\u001b[39;00m i \u001b[38;5;129;01min\u001b[39;00m ss:\n",
      "\u001b[0;31mTypeError\u001b[0m: 'list' object is not callable"
     ]
    }
   ],
   "source": [
    "#Write code that will count the number of vowels in the sentence s and assign the result to the variable num_vowels. \n",
    "#For this problem, vowels are only a, e, i, o, and u. \n",
    "#Hint: use the in operator with vowels.\n",
    "\n",
    "s = \"singing in the rain and playing in the rain are two entirely different situations but both can be fun\"\n",
    "vowels = ['a','e','i','o','u']\n",
    "\n",
    "ss=list(s)\n",
    "num_vowels = 0\n",
    "for i in ss:\n",
    "    for y in vowels:\n",
    "        if y in i:\n",
    "            num_vowels+=1"
   ]
  },
  {
   "cell_type": "code",
   "execution_count": null,
   "metadata": {},
   "outputs": [],
   "source": [
    "s = \"singing in the rain and playing in the rain are two entirely different situations but both can be fun\"\n",
    "vowels = ['a','e','i','o','u']\n",
    "\n",
    "ss=list(s)\n",
    "num_vowels = 0\n",
    "\n",
    "for y in vowels:\n",
    "    for i in ss:\n",
    "        if y in i:\n",
    "            num_vowels+=1"
   ]
  },
  {
   "cell_type": "code",
   "execution_count": null,
   "metadata": {},
   "outputs": [],
   "source": [
    "#Below are a set of scores that students have received in the past semester. \n",
    "#Write code to determine how many are 90 or above and assign that result to the value a_scores.\n",
    "\n",
    "\n",
    "scores = \"67 80 90 78 93 20 79 89 96 97 92 88 79 68 58 90 98 100 79 74 83 88 80 86 85 70 90 100\"\n",
    "newscores = scores.split()\n",
    "for i in range(len(newscores)):\n",
    "   newscores[i]= int (newscores[i])\n",
    "print(newscores)\n",
    "a_scores = 0\n",
    "\n",
    "for y in newscores:\n",
    "   if y >=90:\n",
    "      a_scores+=1\n",
    "\n",
    "print(a_scores)\n",
    "\n"
   ]
  },
  {
   "cell_type": "code",
   "execution_count": null,
   "metadata": {},
   "outputs": [],
   "source": [
    "#Write code that uses the string stored in org and creates an acronym which is assigned to the variable acro. \n",
    "#Only the first letter of each word should be used, each letter in the acronym should be a capital letter, \n",
    "#and there should be nothing to separate the letters of the acronym. \n",
    "#Words that should not be included in the acronym are stored in the list stopwords. \n",
    "#For example, if org was assigned the string “hello to world” then the resulting acronym should be “HW”.\n",
    "\n",
    "stopwords = ['to', 'a', 'for', 'by', 'an', 'am', 'the', 'so', 'it', 'and', \"The\"]\n",
    "org = \"The organization for health, safety, and education\"\n",
    "acro1 = []\n",
    "acro = \"\"\n",
    "new_org = org.split()\n",
    "\n",
    "for i in new_org:\n",
    "    if i not in stopwords:\n",
    "        acro1.append(i[0].upper())\n",
    "\n",
    "for y in acro1:\n",
    "    acro = acro+y\n",
    "\n",
    "print(acro1)\n",
    "print(acro)"
   ]
  },
  {
   "cell_type": "code",
   "execution_count": null,
   "metadata": {},
   "outputs": [],
   "source": [
    "#Write code that uses the string stored in sent and creates an acronym which is assigned to the variable acro. \n",
    "#The first two letters of each word should be used, each letter in the acronym should be a capital letter, \n",
    "#and each element of the acronym should be separated by a “. ” (dot and space). \n",
    "#Words that should not be included in the acronym are stored in the list stopwords. \n",
    "#For example, if sent was assigned the string “height and ewok wonder” then the resulting acronym should be “HE. EW. WO”.\n",
    "\n",
    "\n",
    "stopwords = ['to', 'a', 'for', 'by', 'an', 'am', 'the', 'so', 'it', 'and', 'The']\n",
    "sent = \"The water earth and air are vital\"\n",
    "\n",
    "acro1 = []\n",
    "acro = \". \"\n",
    "new_sent = sent.split()\n",
    "\n",
    "for i in new_sent:\n",
    "    if i not in stopwords:\n",
    "        acro1.append(i[:2].upper())\n",
    "\n",
    "acro = acro.join(acro1)\n",
    "\n",
    "print(acro1)\n",
    "print(acro)\n",
    "\n"
   ]
  },
  {
   "cell_type": "code",
   "execution_count": null,
   "metadata": {},
   "outputs": [],
   "source": [
    "#A palindrome is a phrase that, if reversed, would read the exact same. \n",
    "#Write code that checks if p_phrase is a palindrome by reversing it and \n",
    "#then checking if the reversed version is equal to the original. \n",
    "#Assign the reversed version of p_phrase to the variable r_phrase so that we can check your work.\n",
    "\n",
    "p_phrase = \"was it a car or a cat I saw\"\n",
    "r_phrase = \"\"\n",
    "length = len(p_phrase)\n",
    "for i in range(len(p_phrase)):\n",
    "    r_phrase = r_phrase + p_phrase[len(p_phrase)-1-i]\n",
    "\n",
    "#quick method\n",
    "p_phrase = \"was it a car or a cat I saw\"\n",
    "r_phrase = p_phrase[::-1]\n",
    "print(r_phrase)"
   ]
  },
  {
   "cell_type": "code",
   "execution_count": null,
   "metadata": {},
   "outputs": [],
   "source": [
    "#Provided is a list of data about a store’s inventory where each item in the list represents the name of an item, \n",
    "#how much is in stock, and how much it costs. \n",
    "#Print out each item in the list with the same formatting, using the .format method (not string concatenation). \n",
    "#For example, the first print statment should read The store has 12 shoes, each for 29.99 USD.\n",
    "\n",
    "inventory = [\"shoes, 12, 29.99\", \"shirts, 20, 9.99\", \"sweatpants, 25, 15.00\", \"scarves, 13, 7.75\"]\n",
    "for temp in inventory:\n",
    "    temp = temp.split(',')  \n",
    "    item = temp[0]\n",
    "    quantity = temp[1]\n",
    "    amount = temp[2]\n",
    "    str1=\"The store has{} {}, each for{} USD.\"\n",
    "    str1=str1.format(quantity,item,amount)\n",
    "    print(str1)\n",
    "\n",
    "print(temp)"
   ]
  },
  {
   "cell_type": "code",
   "execution_count": null,
   "metadata": {},
   "outputs": [],
   "source": [
    "#Using the file school_prompt2.txt, find the number of characters in the file and assign that value to the variable num_char.\n",
    "fileread = open(\"school_prompt2.txt\", \"r\")\n",
    "content = fileread.read()\n",
    "num_char = len(content)\n"
   ]
  },
  {
   "cell_type": "code",
   "execution_count": null,
   "metadata": {},
   "outputs": [],
   "source": [
    "#Find the number of lines in the file, travel_plans2.txt, and assign it to the variable num_lines.\n",
    "fileread = open(\"travel_plans2.txt\", \"r\")\n",
    "content = fileread.readlines()\n",
    "num_lines = len(content)"
   ]
  },
  {
   "cell_type": "code",
   "execution_count": null,
   "metadata": {},
   "outputs": [],
   "source": [
    "#Create a string called first_forty that is comprised of the first 40 characters of emotion_words2.txt.\n",
    "fileread = open(\"emotion_words.txt\", \"r\")\n",
    "content = fileread.read()\n",
    "first_forty=content[:40]"
   ]
  },
  {
   "cell_type": "code",
   "execution_count": null,
   "metadata": {},
   "outputs": [],
   "source": [
    "#write file\n",
    "filename = \"squared_numbers.txt\"\n",
    "outfile = open(filename, \"w\")\n",
    "\n",
    "for number in range(1, 13):\n",
    "    square = number * number\n",
    "    outfile.write(str(square) + \"\\n\")\n",
    "\n",
    "outfile.close()\n",
    "infile = open(filename, \"r\")\n",
    "print(infile.read()[:10])\n",
    "infile.close()"
   ]
  },
  {
   "cell_type": "code",
   "execution_count": null,
   "metadata": {},
   "outputs": [],
   "source": [
    "#open file using with\n",
    "with open('mydata.txt', 'r') as md:\n",
    "    for line in md:\n",
    "        print(line)\n",
    "\n",
    " #same as below       \n",
    "md = open('mydata.txt', 'r')\n",
    "for line in md:\n",
    "    print(line)\n",
    "md.close()\n",
    "\n",
    "#Other recepies\n",
    "fname = \"yourfile.txt\"\n",
    "with open(fname, 'r') as fileref:         # step 1\n",
    "    lines = fileref.readlines()           # step 2\n",
    "    for lin in lines:                     # step 3\n",
    "        #some code that references the variable lin\n",
    "#some other code not relying on fileref   # step 4"
   ]
  },
  {
   "cell_type": "code",
   "execution_count": null,
   "metadata": {},
   "outputs": [],
   "source": [
    "#Write CSV data examples for bewlow\n",
    "olympians = [(\"John Aalberg\", 31, \"Cross Country Skiing\"),\n",
    "             (\"Minna Maarit Aalto\", 30, \"Sailing\"),\n",
    "             (\"Win Valdemar Aaltonen\", 54, \"Art Competitions\"),\n",
    "             (\"Wakako Abe\", 18, \"Cycling\")]\n",
    "\n",
    "outfile = open(\"reduced_olympics.csv\", \"w\")\n",
    "# output the header row\n",
    "outfile.write('Name,Age,Sport')\n",
    "outfile.write('\\n')\n",
    "# output each of the rows:\n",
    "for olympian in olympians:\n",
    "    row_string = '{},{},{}'.format(olympian[0], olympian[1], olympian[2])\n",
    "    outfile.write(row_string)\n",
    "    outfile.write('\\n')\n",
    "outfile.close()"
   ]
  },
  {
   "cell_type": "code",
   "execution_count": null,
   "metadata": {},
   "outputs": [],
   "source": [
    "# We have provided a file called emotion_words.txt that contains lines of words that describe emotions. Find the total number of words in the file and assign this value to the variable num_words.     \n",
    "    \n",
    "    \n",
    "num_words = 0\n",
    "with open(\"emotion_words.txt\", 'r') as file:\n",
    "    for line in file:\n",
    "        num_words += len(line.split())\n",
    "        print(line.split())\n",
    "print(\"number of words : \", num_words) "
   ]
  },
  {
   "cell_type": "code",
   "execution_count": null,
   "metadata": {},
   "outputs": [],
   "source": [
    "# Assign to the variable num_lines the number of lines in the file school_prompt.txt. \n",
    "#'Writing essays for school can be difficult but\\n', \n",
    "#'many students find that by researching their topic that they\\n', \n",
    "#'have more to say and are better informed. Here are the university\\n', \n",
    "#'we require many undergraduate students to take a first year writing requirement\\n', \n",
    "#'so that they can\\n', 'have a solid foundation for their writing skills. This comes\\n', \n",
    "#'in handy for many students.\\n', 'Different schools have different requirements, but everyone uses\\n', \n",
    "#'writing at some point in their academic career, be it essays, research papers,\\n', \n",
    "#'technical write ups, or scripts.\\n']\n",
    "\n",
    "num_lines=0\n",
    "with open('school_prompt.txt','r') as op:\n",
    "    for i in op:\n",
    "        num_lines+=1\n",
    "    print(num_lines)\n",
    "\n",
    "# Different options\n",
    "file = open('school_prompt.txt', 'r')\n",
    "data = file.readlines()\n",
    "num_lines = len(data)"
   ]
  },
  {
   "cell_type": "code",
   "execution_count": null,
   "metadata": {},
   "outputs": [],
   "source": [
    "# Assign to the variable num_lines the number of lines in the file school_prompt.txt. \n",
    "file=open('school_prompt.txt', 'r')\n",
    "data=file.readlines()\n",
    "three = []\n",
    "for i in data:\n",
    "    k = i.split()\n",
    "    three.append(k[2])\n",
    "\n",
    "print(data)  \n",
    "print(three)\n"
   ]
  },
  {
   "cell_type": "code",
   "execution_count": null,
   "metadata": {},
   "outputs": [],
   "source": [
    "#Challenge: Create a list called emotions that contains the first word of every line in emotion_words.txt.\n",
    "file=open('emotion_words.txt', 'r')\n",
    "data=file.readlines()\n",
    "emotions = []\n",
    "for i in data:\n",
    "    k = i.split()\n",
    "    emotions.append(k[0])\n",
    "print(data)\n",
    "print(emotions)"
   ]
  },
  {
   "cell_type": "code",
   "execution_count": null,
   "metadata": {},
   "outputs": [],
   "source": [
    "#Assign the first 33 characters from the textfile, travel_plans.txt to the variable first_chars.\n",
    "fileread = open(\"travel_plans.txt\", \"r\")\n",
    "content = fileread.read()\n",
    "first_chars=content[:33]\n",
    "print(content)\n",
    "print(first_chars)"
   ]
  },
  {
   "cell_type": "code",
   "execution_count": null,
   "metadata": {},
   "outputs": [],
   "source": [
    "#Challenge: Using the file school_prompt.txt, if the character ‘p’ is in a word, \n",
    "#then add the word to a list called p_words.\n",
    "file=open('school_prompt.txt', 'r')\n",
    "data=file.readlines()\n",
    "p_words=[]\n",
    "for i in data:\n",
    "    k = i.split()\n",
    "    for y in k:\n",
    "        if 'p' in y:\n",
    "            p_words.append(y)\n",
    "print(data)\n",
    "print(p_words)"
   ]
  },
  {
   "cell_type": "code",
   "execution_count": null,
   "metadata": {},
   "outputs": [
    {
     "name": "stdout",
     "output_type": "stream",
     "text": [
      "{'Manuel': 4, 'Lochte': 12, 'Adrian': 7, 'Ledecky': 5, 'Dirado': 4, 'Phelps': 23}\n",
      "{'Italy': 12, 'USA': 33, 'Brazil': 15, 'China': 27, 'Spain': 21, 'Canada': 22, 'Argentina': 8, 'England': 29}\n"
     ]
    },
    {
     "ename": "TypeError",
     "evalue": "'list' object is not callable",
     "output_type": "error",
     "traceback": [
      "\u001b[0;31m---------------------------------------------------------------------------\u001b[0m",
      "\u001b[0;31mTypeError\u001b[0m                                 Traceback (most recent call last)",
      "Cell \u001b[0;32mIn[16], line 17\u001b[0m\n\u001b[1;32m     13\u001b[0m \u001b[38;5;66;03m#Create a list of the countries that are in the dictionary golds, and assign that list to the variable name countries.\u001b[39;00m\n\u001b[1;32m     14\u001b[0m \u001b[38;5;66;03m#Do not hard code this.\u001b[39;00m\n\u001b[1;32m     16\u001b[0m golds \u001b[38;5;241m=\u001b[39m {\u001b[38;5;124m\"\u001b[39m\u001b[38;5;124mItaly\u001b[39m\u001b[38;5;124m\"\u001b[39m: \u001b[38;5;241m12\u001b[39m, \u001b[38;5;124m\"\u001b[39m\u001b[38;5;124mUSA\u001b[39m\u001b[38;5;124m\"\u001b[39m: \u001b[38;5;241m33\u001b[39m, \u001b[38;5;124m\"\u001b[39m\u001b[38;5;124mBrazil\u001b[39m\u001b[38;5;124m\"\u001b[39m: \u001b[38;5;241m15\u001b[39m, \u001b[38;5;124m\"\u001b[39m\u001b[38;5;124mChina\u001b[39m\u001b[38;5;124m\"\u001b[39m: \u001b[38;5;241m27\u001b[39m, \u001b[38;5;124m\"\u001b[39m\u001b[38;5;124mSpain\u001b[39m\u001b[38;5;124m\"\u001b[39m: \u001b[38;5;241m19\u001b[39m, \u001b[38;5;124m\"\u001b[39m\u001b[38;5;124mCanada\u001b[39m\u001b[38;5;124m\"\u001b[39m: \u001b[38;5;241m22\u001b[39m, \u001b[38;5;124m\"\u001b[39m\u001b[38;5;124mArgentina\u001b[39m\u001b[38;5;124m\"\u001b[39m: \u001b[38;5;241m8\u001b[39m, \u001b[38;5;124m\"\u001b[39m\u001b[38;5;124mEngland\u001b[39m\u001b[38;5;124m\"\u001b[39m: \u001b[38;5;241m29\u001b[39m}\n\u001b[0;32m---> 17\u001b[0m countries \u001b[38;5;241m=\u001b[39m \u001b[38;5;28;43mlist\u001b[39;49m\u001b[43m(\u001b[49m\u001b[43mgolds\u001b[49m\u001b[38;5;241;43m.\u001b[39;49m\u001b[43mkeys\u001b[49m\u001b[43m(\u001b[49m\u001b[43m)\u001b[49m\u001b[43m)\u001b[49m\n\u001b[1;32m     18\u001b[0m \u001b[38;5;28mprint\u001b[39m(countries)\n\u001b[1;32m     20\u001b[0m \u001b[38;5;66;03m#Provided is the dictionary, medal_count, which lists countries and their respective medal count at the halfway point in the 2016 Rio Olympics. \u001b[39;00m\n\u001b[1;32m     21\u001b[0m \u001b[38;5;66;03m#Using dictionary mechanics, assign the medal count value for \"Belarus\" to the variable belarus. \u001b[39;00m\n\u001b[1;32m     22\u001b[0m \u001b[38;5;66;03m#Do not hardcode this.\u001b[39;00m\n",
      "\u001b[0;31mTypeError\u001b[0m: 'list' object is not callable"
     ]
    }
   ],
   "source": [
    "#Given the dictionary swimmers, add an additional key-value pair to the dictionary with \"Phelps\" as the key and the integer 23 as the value. Do not rewrite the entire dictionary.\n",
    "swimmers = {'Manuel':4, 'Lochte':12, 'Adrian':7, 'Ledecky':5, 'Dirado':4}\n",
    "swimmers ['Phelps'] =23\n",
    "print(swimmers)\n",
    "\n",
    "#The dictionary golds contains information about how many gold medals each country won in the 2016 Olympics. \n",
    "#But today, Spain won 2 more gold medals. Update golds to reflect this information.\n",
    "\n",
    "golds = {\"Italy\": 12, \"USA\": 33, \"Brazil\": 15, \"China\": 27, \"Spain\": 19, \"Canada\": 22, \"Argentina\": 8, \"England\": 29}\n",
    "golds['Spain'] =21\n",
    "print(golds)\n",
    "\n",
    "#Create a list of the countries that are in the dictionary golds, and assign that list to the variable name countries.\n",
    "#Do not hard code this.\n",
    "\n",
    "golds = {\"Italy\": 12, \"USA\": 33, \"Brazil\": 15, \"China\": 27, \"Spain\": 19, \"Canada\": 22, \"Argentina\": 8, \"England\": 29}\n",
    "countries = list(golds.keys())\n",
    "print(countries)\n",
    "\n",
    "#Provided is the dictionary, medal_count, which lists countries and their respective medal count at the halfway point in the 2016 Rio Olympics. \n",
    "#Using dictionary mechanics, assign the medal count value for \"Belarus\" to the variable belarus. \n",
    "#Do not hardcode this.\n",
    "\n",
    "medal_count = {'United States': 70, 'Great Britain':38, 'China':45, 'Russia':30, 'Germany':17, 'Italy':22, 'France': 22, 'Japan':26, 'Australia':22, 'South Korea':14, 'Hungary':12, 'Netherlands':10, 'Spain':5, 'New Zealand':8, 'Canada':13, 'Kazakhstan':8, 'Colombia':4, 'Switzerland':5, 'Belgium':4, 'Thailand':4, 'Croatia':3, 'Iran':3, 'Jamaica':3, 'South Africa':7, 'Sweden':6, 'Denmark':7, 'North Korea':6, 'Kenya':4, 'Brazil':7, 'Belarus':4, 'Cuba':5, 'Poland':4, 'Romania':4, 'Slovenia':3, 'Argentina':2, 'Bahrain':2, 'Slovakia':2, 'Vietnam':2, 'Czech Republic':6, 'Uzbekistan':5}\n",
    "belarus = medal_count['Belarus']\n",
    "belarus = medal_count.get('Belarus')\n",
    "print(belarus)"
   ]
  },
  {
   "cell_type": "code",
   "execution_count": null,
   "metadata": {},
   "outputs": [
    {
     "ename": "TypeError",
     "evalue": "'list' object is not callable",
     "output_type": "error",
     "traceback": [
      "\u001b[0;31m---------------------------------------------------------------------------\u001b[0m",
      "\u001b[0;31mTypeError\u001b[0m                                 Traceback (most recent call last)",
      "Cell \u001b[0;32mIn[15], line 8\u001b[0m\n\u001b[1;32m      5\u001b[0m Junior \u001b[38;5;241m=\u001b[39m {\u001b[38;5;124m'\u001b[39m\u001b[38;5;124mSI 206\u001b[39m\u001b[38;5;124m'\u001b[39m:\u001b[38;5;241m4\u001b[39m, \u001b[38;5;124m'\u001b[39m\u001b[38;5;124mSI 310\u001b[39m\u001b[38;5;124m'\u001b[39m:\u001b[38;5;241m4\u001b[39m, \u001b[38;5;124m'\u001b[39m\u001b[38;5;124mBL 300\u001b[39m\u001b[38;5;124m'\u001b[39m:\u001b[38;5;241m3\u001b[39m, \u001b[38;5;124m'\u001b[39m\u001b[38;5;124mTO 313\u001b[39m\u001b[38;5;124m'\u001b[39m:\u001b[38;5;241m3\u001b[39m, \u001b[38;5;124m'\u001b[39m\u001b[38;5;124mBCOM 350\u001b[39m\u001b[38;5;124m'\u001b[39m:\u001b[38;5;241m1\u001b[39m, \u001b[38;5;124m'\u001b[39m\u001b[38;5;124mMO 300\u001b[39m\u001b[38;5;124m'\u001b[39m:\u001b[38;5;241m3\u001b[39m}\n\u001b[1;32m      7\u001b[0m credits \u001b[38;5;241m=\u001b[39m \u001b[38;5;241m0\u001b[39m\n\u001b[0;32m----> 8\u001b[0m l \u001b[38;5;241m=\u001b[39m \u001b[38;5;28;43mlist\u001b[39;49m\u001b[43m(\u001b[49m\u001b[43mJunior\u001b[49m\u001b[38;5;241;43m.\u001b[39;49m\u001b[43mkeys\u001b[49m\u001b[43m(\u001b[49m\u001b[43m)\u001b[49m\u001b[43m)\u001b[49m\n\u001b[1;32m      9\u001b[0m \u001b[38;5;28;01mfor\u001b[39;00m i \u001b[38;5;129;01min\u001b[39;00m l:\n\u001b[1;32m     10\u001b[0m     credits \u001b[38;5;241m=\u001b[39m credits \u001b[38;5;241m+\u001b[39m Junior[i]\n",
      "\u001b[0;31mTypeError\u001b[0m: 'list' object is not callable"
     ]
    }
   ],
   "source": [
    "#The dictionary Junior shows a schedule for a junior year semester. The key is the course name and the value is the number of credits. \n",
    "#Find the total number of credits taken this semester and assign it to the variable credits. \n",
    "#Do not hardcode this – use dictionary accumulation!\n",
    "\n",
    "Junior = {'SI 206':4, 'SI 310':4, 'BL 300':3, 'TO 313':3, 'BCOM 350':1, 'MO 300':3}\n",
    "\n",
    "credits = 0\n",
    "l = list(Junior.keys())\n",
    "for i in l:\n",
    "    credits = credits + Junior[i]\n",
    "\n",
    "print(credits)"
   ]
  },
  {
   "cell_type": "code",
   "execution_count": null,
   "metadata": {},
   "outputs": [
    {
     "name": "stdout",
     "output_type": "stream",
     "text": [
      "{'p': 9, 'e': 8, 't': 1, 'r': 3, ' ': 7, 'i': 3, 'c': 3, 'k': 3, 'd': 2, 'a': 1, 'o': 1, 'f': 1, 'l': 1, 's': 1}\n"
     ]
    }
   ],
   "source": [
    "#Create a dictionary, freq, that displays each character in string str1 as the key and its frequency as the value.\n",
    "str1 = \"peter piper picked a peck of pickled peppers\"\n",
    "freq = {}\n",
    "\n",
    "for i in str1:\n",
    "    if i not in freq:\n",
    "        freq[i]=0\n",
    "    freq[i]+=1\n",
    "print(freq)"
   ]
  },
  {
   "cell_type": "code",
   "execution_count": null,
   "metadata": {},
   "outputs": [],
   "source": [
    "#Provided is a string saved to the variable name s1. Create a dictionary named counts that contains each letter in s1 and the number of times it occurs.\n",
    "s1 = \"hello\"\n",
    "counts = {}\n",
    "\n",
    "for i in s1:\n",
    "    if i not in counts:\n",
    "        counts[i]=0\n",
    "    counts[i]+=1\n",
    "print(counts)\n"
   ]
  },
  {
   "cell_type": "code",
   "execution_count": null,
   "metadata": {},
   "outputs": [],
   "source": [
    "#Create a dictionary, freq_words, that contains each word in string str1 as the key and its frequency as the value.\n",
    "str1 = \"I wish I wish with all my heart to fly with dragons in a land apart\"\n",
    "str2 = list(str1.split())\n",
    "freq_words = {}\n",
    "for i in str2:\n",
    "    if i not in freq_words:\n",
    "        freq_words[i]=0\n",
    "    freq_words[i]+=1\n",
    "print(freq_words)\n"
   ]
  },
  {
   "cell_type": "code",
   "execution_count": 2,
   "metadata": {},
   "outputs": [
    {
     "name": "stdout",
     "output_type": "stream",
     "text": [
      "['Rattata', 'Machop', 'Seel', 'Volbeat', 'Solrock']\n",
      "[19, 66, 86, 86, 126]\n"
     ]
    }
   ],
   "source": [
    "\n",
    "#If you remember, the .items() dictionary method produces a sequence of tuples. Keeping this in mind, we have provided you a dictionary called pokemon. \n",
    "#For every key value pair, append the key to the list p_names, and append the value to the list p_number. Do not use the .keys() or .values() methods.\n",
    "pokemon = {'Rattata': 19, 'Machop': 66, 'Seel': 86, 'Volbeat': 86, 'Solrock': 126}\n",
    "p_names = []\n",
    "p_number = []\n",
    "\n",
    "for k, v in pokemon.items():\n",
    "    p_names.append(k)\n",
    "    p_number.append(v)\n",
    "\n",
    "print(p_names)\n",
    "print(p_number)"
   ]
  },
  {
   "cell_type": "code",
   "execution_count": 4,
   "metadata": {},
   "outputs": [
    {
     "name": "stdout",
     "output_type": "stream",
     "text": [
      "['shot put', 'long jump', '100 meters', '400 meters', '100 meter hurdles', 'triple jump', 'steeplechase', '1500 meters', '5K', '10K', 'marathon', '200 meters', '400 meter hurdles', 'high jump']\n"
     ]
    }
   ],
   "source": [
    "#The .items() method produces a sequence of key-value pair tuples. With this in mind, \n",
    "#write code to create a list of keys from the dictionary track_medal_counts and assign the list to the variable name track_events.\n",
    "#Do NOT use the .keys() method.\n",
    "\n",
    "\n",
    "track_medal_counts = {'shot put': 1, 'long jump': 3, '100 meters': 2, '400 meters': 2, '100 meter hurdles': 3, 'triple jump': 3, 'steeplechase': 2, '1500 meters': 1, '5K': 0, '10K': 0, 'marathon': 0, '200 meters': 0, '400 meter hurdles': 0, 'high jump': 1}\n",
    "track_events =[]\n",
    "for k,v in track_medal_counts.items():\n",
    "    track_events.append(k)\n",
    "print(track_events)\n",
    "\n"
   ]
  },
  {
   "cell_type": "code",
   "execution_count": null,
   "metadata": {},
   "outputs": [],
   "source": [
    "#Write a function, sublist, that takes in a list of numbers as the parameter. In the function, use a while loop to return a sublist of the input list. \n",
    "#The sublist should contain the same values of the original list up until it reaches the number 5 (it should not contain the number 5).\n",
    "\n",
    "def sublist (x):\n",
    "    n = 0\n",
    "    list = []\n",
    "    while n<len(x):\n",
    "        if x[n]==5:\n",
    "            break\n",
    "        list.append(x[n])\n",
    "        n= n+1\n",
    "    return (list)\n"
   ]
  },
  {
   "cell_type": "code",
   "execution_count": null,
   "metadata": {},
   "outputs": [],
   "source": [
    "#Challenge: Write a function called beginning that takes a list as input and contains a while loop that only stops once the element of the list is the string ‘bye’. \n",
    "#What is returned is a list that contains up to the first 10 strings, regardless of where the loop stops. \n",
    "#(i.e., if it stops on the 32nd element, the first 10 are returned. \n",
    "#If “bye” is the 5th element, the first 4 are returned.) If you want to make this even more of a challenge, do this without slicing\n",
    "\n",
    "def beginning (x):\n",
    "    n = 0\n",
    "    list = []\n",
    "    \n",
    "    while n < len(x):\n",
    "        if x[n] == 'bye' or n > 9:\n",
    "            break\n",
    "        list.append(x[n])\n",
    "        n = n + 1\n",
    "    return list\n",
    "        \n",
    "\n"
   ]
  },
  {
   "cell_type": "code",
   "execution_count": null,
   "metadata": {},
   "outputs": [],
   "source": [
    "#5. Define a function called multiply. It should have one required parameter, a string. \n",
    "#It should also have one optional parameter, an integer, named mult_int, with a default value of 10. \n",
    "#The function should return the string multiplied by the integer. (i.e.: Given inputs “Hello”, mult_int=3, the function should return “HelloHelloHello”)\n",
    "\n",
    "def multiply(x='', mult_int=10):\n",
    "    return x*mult_int"
   ]
  },
  {
   "cell_type": "code",
   "execution_count": 1,
   "metadata": {},
   "outputs": [],
   "source": [
    "#Write a function, test, that takes in three parameters: a required integer, an optional boolean whose default value is True, \n",
    "#and an optional dictionary, called dict1, whose default value is {2:3, 4:5, 6:8}. \n",
    "#If the boolean parameter is True, the function should test to see if the integer is a key in the dictionary. \n",
    "#The value of that key should then be returned. If the boolean parameter is False, return the boolean value “False”.\n",
    "\n",
    "def test(x,y=True,dict1={2:3,4:5,6:7}):\n",
    "    if y == True:\n",
    "        for k,v in dict1.items():\n",
    "            if x == k:\n",
    "                return v\n",
    "    if y == False:\n",
    "        return False"
   ]
  },
  {
   "cell_type": "code",
   "execution_count": null,
   "metadata": {},
   "outputs": [],
   "source": [
    "#Write a function called checkingIfIn that takes three parameters. The first is a required parameter, which should be a string. \n",
    "#The second is an optional parameter called direction with a default value of True. \n",
    "#The third is an optional parameter called d that has a default value of {'apple': 2, 'pear': 1, 'fruit': 19, 'orange': 5, 'banana': 3, 'grapes': 2, 'watermelon': 7}. \n",
    "#Write the function checkingIfIn so that when the second parameter is True, \n",
    "#it checks to see if the first parameter is a key in the third parameter; if it is, return True, \n",
    "#otherwise return False.\n",
    "\n",
    "But if the second paramter is False, then the function should check to see if the first parameter is not a key of the third. If it’s not, the function should return True in this case, and if it is, it should return False.\n",
    "def checkingIfIn(x, direction = True, d = {'apple':2,'pear':1,'fruit':19,'orange':5,'banana':3,'grapes':2,'watermelon':7}):\n",
    "    if direction == True:\n",
    "        if x in d:\n",
    "            return True\n",
    "        else:\n",
    "            return False\n",
    "    else:\n",
    "        if direction == False:\n",
    "            if x not in d:\n",
    "                return True\n",
    "            else:\n",
    "                return False\n"
   ]
  },
  {
   "cell_type": "code",
   "execution_count": null,
   "metadata": {},
   "outputs": [],
   "source": [
    "#We have provided the function checkingIfIn such that if the first input parameter is in the third, dictionary, input parameter,\n",
    "# then the function returns that value, and otherwise, it returns False. \n",
    "#Follow the instructions in the active code window for specific variable assignmemts.\n",
    "\n",
    "def checkingIfIn(a, direction = True, d = {'apple': 2, 'pear': 1, 'fruit': 19, 'orange': 5, 'banana': 3, 'grapes': 2, 'watermelon': 7}):\n",
    "    if direction == True:\n",
    "        if a in d:\n",
    "            return d[a]\n",
    "        else:\n",
    "            return False\n",
    "    else:\n",
    "        if a not in d:\n",
    "            return True\n",
    "        else:\n",
    "            return d[a]\n",
    "\n",
    "# Call the function so that it returns False and assign that function call to the variable c_false\n",
    "c_false=checkingIfIn('a')\n",
    "# Call the fucntion so that it returns True and assign it to the variable c_true\n",
    "c_true = checkingIfIn('a', direction = False)\n",
    "# Call the function so that the value of fruit is assigned to the variable fruit_ans\n",
    "fruit_ans = checkingIfIn('fruit')\n",
    "# Call the function using the first and third parameter so that the value 8 is assigned to the variable param_check\n",
    "\n",
    "param_check = checkingIfIn('j', d = {'j':8})"
   ]
  },
  {
   "cell_type": "code",
   "execution_count": null,
   "metadata": {},
   "outputs": [],
   "source": [
    "#You will be sorting the following list by each element’s second letter, a to z.\n",
    "#Create a function to use when sorting, called second_let. \n",
    "#It will take a string as input and return the second letter of that string. \n",
    "#Then sort the list, create a variable called sorted_by_second_let and assign the sorted list to it. Do not use lambda.\n",
    "\n",
    "ex_lst = ['hi', 'how are you', 'bye', 'apple', 'zebra', 'dance']\n",
    "\n",
    "def second_let (x):\n",
    "    return x[1]\n",
    "\n",
    "sorted_by_second_let = sorted (ex_lst, key = second_let)"
   ]
  },
  {
   "cell_type": "code",
   "execution_count": 6,
   "metadata": {},
   "outputs": [
    {
     "name": "stdout",
     "output_type": "stream",
     "text": [
      "['19', '14378', '8907', '16', '1005', '44', '33', '32', '871', '1450']\n"
     ]
    }
   ],
   "source": [
    "#Below, we have provided a list of strings called nums. \n",
    "#Write a function called last_char that takes a string as input, and returns only its last character. \n",
    "#Use this function to sort the list nums by the last digit of each number, \n",
    "#from highest to lowest, and save this as a new list called nums_sorted.\n",
    "\n",
    "nums = ['1450', '33', '871', '19', '14378', '32', '1005', '44', '8907', '16']\n",
    "\n",
    "def last_char(x):\n",
    "    return x[-1]\n",
    "\n",
    "nums_sorted = sorted(nums, key=last_char, reverse=True)\n",
    "\n",
    "print(nums_sorted)"
   ]
  },
  {
   "cell_type": "code",
   "execution_count": 5,
   "metadata": {},
   "outputs": [
    {
     "name": "stdout",
     "output_type": "stream",
     "text": [
      "['19', '14378', '8907', '16', '1005', '44', '33', '32', '871', '1450']\n"
     ]
    }
   ],
   "source": [
    "#Once again, sort the list nums based on the last digit of each number from highest to lowest. \n",
    "#However, now you should do so by writing a lambda function. Save the new list as nums_sorted_lambda.\n",
    "\n",
    "\n",
    "nums = ['1450', '33', '871', '19', '14378', '32', '1005', '44', '8907', '16']\n",
    "\n",
    "nums_sorted_lambda =sorted(nums, key=lambda x: x[-1],reverse=True)\n",
    "\n",
    "print(nums_sorted_lambda)"
   ]
  },
  {
   "cell_type": "code",
   "execution_count": null,
   "metadata": {},
   "outputs": [],
   "source": [
    "#Sort the following dictionary’s keys based on the value from highest to lowest. Assign the resulting value to the variable sorted_values.\n",
    "\n",
    "dictionary = {\"Flowers\": 10, 'Trees': 20, 'Chairs': 6, \"Firepit\": 1, 'Grill': 2, 'Lights': 14}\n",
    "\n",
    "sorted_values = sorted(dictionary, key = lambda k:dictionary[k], reverse = True)"
   ]
  },
  {
   "cell_type": "code",
   "execution_count": null,
   "metadata": {},
   "outputs": [],
   "source": [
    "#Use a helper function to have the lambda expression cleaner\n",
    "def s_cities_count(city_list):\n",
    "    ct = 0\n",
    "    for city in city_list:\n",
    "        if city[0] == \"S\":\n",
    "            ct += 1\n",
    "    return ct\n",
    "\n",
    "states = {\"Minnesota\": [\"St. Paul\", \"Minneapolis\", \"Saint Cloud\", \"Stillwater\"],\n",
    "          \"Michigan\": [\"Ann Arbor\", \"Traverse City\", \"Lansing\", \"Kalamazoo\"],\n",
    "          \"Washington\": [\"Seattle\", \"Tacoma\", \"Olympia\", \"Vancouver\"]}\n",
    "\n",
    "print(sorted(states, key=lambda state: s_cities_count(states[state])))\n"
   ]
  },
  {
   "cell_type": "code",
   "execution_count": 8,
   "metadata": {},
   "outputs": [
    {
     "name": "stdout",
     "output_type": "stream",
     "text": [
      "['United States', 'China', 'Russia']\n"
     ]
    }
   ],
   "source": [
    "#Given the same dictionary, medals, now sort by the medal count. Save the three countries with the highest medal count to the list, top_three.\n",
    "\n",
    "medals = {'Japan':41, 'Russia':56, 'South Korea':21, 'United States':121, 'Germany':42, 'China':70}\n",
    "\n",
    "list = sorted(medals, key = lambda medal:medals[medal],reverse=True)\n",
    "\n",
    "top_three = list[:3]\n",
    "\n",
    "print(top_three)"
   ]
  },
  {
   "cell_type": "code",
   "execution_count": 9,
   "metadata": {},
   "outputs": [
    {
     "name": "stdout",
     "output_type": "stream",
     "text": [
      "['granola bars', 'carrots', 'spinach', 'bananas', 'onions', 'apples', 'coffee', 'cereal', 'pasta', 'salsa', 'orange juice', 'peanut butter', 'popcorn', 'rice']\n"
     ]
    }
   ],
   "source": [
    "#We have provided the dictionary groceries. You should return a list of its keys, but they should be sorted by their values, from highest to lowest. Save the new list as most_needed.\n",
    "\n",
    "groceries = {'apples': 5, 'pasta': 3, 'carrots': 12, 'orange juice': 2, 'bananas': 8, 'popcorn': 1, 'salsa': 3, 'cereal': 4, 'coffee': 5, 'granola bars': 15, 'onions': 7, 'rice': 1, 'peanut butter': 2, 'spinach': 9}\n",
    "\n",
    "most_needed = sorted(groceries, key = lambda k:groceries[k],reverse=True)\n",
    "\n",
    "print(most_needed)"
   ]
  },
  {
   "cell_type": "code",
   "execution_count": 14,
   "metadata": {},
   "outputs": [
    {
     "name": "stdout",
     "output_type": "stream",
     "text": [
      "4567\n",
      "[17570002, 17572342, 17572345, 17573005, 17579000, 17579329]\n"
     ]
    }
   ],
   "source": [
    "#Create a function called last_four that takes in a single ID number and returns the last four digits. For example, the number 17573005 should return 3005. Then, use the resulting function to sort the list of ids stored in the variable, ids, from lowest to highest. \n",
    "#Save this sorted list in the variable, sorted_ids. Hint: Remember that only strings can be indexed, so conversions may be needed.\n",
    "def last_four(x):\n",
    "    return (str(x)[-4:])\n",
    "print(last_four(1234567))\n",
    "\n",
    "ids = [17573005, 17572342, 17579000, 17570002, 17572345, 17579329]\n",
    "sorted_ids = sorted(ids, key=lambda k :last_four(k))\n",
    "print(sorted_ids)"
   ]
  },
  {
   "cell_type": "code",
   "execution_count": 15,
   "metadata": {},
   "outputs": [
    {
     "name": "stdout",
     "output_type": "stream",
     "text": [
      "[17570002, 17572342, 17572345, 17573005, 17579000, 17579329]\n"
     ]
    }
   ],
   "source": [
    "#Sort the list ids by the last four digits of each id. Do this using lambda and not using a defined function. Save this sorted list in the variable sorted_id.\n",
    "\n",
    "ids = [17573005, 17572342, 17579000, 17570002, 17572345, 17579329]\n",
    "\n",
    "sorted_id = sorted(ids, key = lambda k:str(k)[-4:])\n",
    "\n",
    "print(sorted_id)"
   ]
  },
  {
   "cell_type": "code",
   "execution_count": 17,
   "metadata": {},
   "outputs": [
    {
     "name": "stdout",
     "output_type": "stream",
     "text": [
      "['dance', 'zebra', 'hi', 'how are you', 'apple', 'bye']\n"
     ]
    }
   ],
   "source": [
    "#Sort the following list by each element’s second letter a to z. Do so by using lambda. Assign the resulting value to the variable lambda_sort.\n",
    "\n",
    "ex_lst = ['hi', 'how are you', 'bye', 'apple', 'zebra', 'dance']\n",
    "\n",
    "lambda_sort = sorted(ex_lst, key =lambda x:x[1])\n",
    "\n",
    "print(lambda_sort)"
   ]
  }
 ],
 "metadata": {
  "kernelspec": {
   "display_name": ".venv",
   "language": "python",
   "name": "python3"
  },
  "language_info": {
   "codemirror_mode": {
    "name": "ipython",
    "version": 3
   },
   "file_extension": ".py",
   "mimetype": "text/x-python",
   "name": "python",
   "nbconvert_exporter": "python",
   "pygments_lexer": "ipython3",
   "version": "3.9.6"
  }
 },
 "nbformat": 4,
 "nbformat_minor": 2
}
