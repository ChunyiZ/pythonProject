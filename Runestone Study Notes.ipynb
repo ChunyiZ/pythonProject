{
 "cells": [
  {
   "cell_type": "code",
   "execution_count": 8,
   "metadata": {},
   "outputs": [
    {
     "name": "stdout",
     "output_type": "stream",
     "text": [
      "5\n",
      "['1.65', ' 1.46', ' 2.05', ' 3.03', ' 3.35', ' 3.46', ' 2.83', ' 3.23', ' 3.5', ' 2.52', ' 2.8', ' 1.85']\n",
      "[1.65, 1.46, 2.05, 3.03, 3.35, 3.46, 2.83, 3.23, 3.5, 2.52, 2.8, 1.85]\n"
     ]
    }
   ],
   "source": [
    "#rainfall_mi is a string that contains the average number of inches of rainfall in Michigan \n",
    "#for every month (in inches) with every month separated by a comma. \n",
    "#Write code to compute the number of months that have more than 3 inches of rainfall. \n",
    "#Store the result in the variable num_rainy_months. In other words, count the number of items with values > 3.0.\n",
    "\n",
    "rainfall_mi = \"1.65, 1.46, 2.05, 3.03, 3.35, 3.46, 2.83, 3.23, 3.5, 2.52, 2.8, 1.85\"\n",
    "\n",
    "rain = rainfall_mi.split(\",\")\n",
    "rain_float = [float(i) for i in rain]\n",
    "num_rainy_months = 0\n",
    "for y in rain_float:\n",
    "    if y > 3:\n",
    "        num_rainy_months +=1\n",
    "\n",
    "\n"
   ]
  },
  {
   "cell_type": "code",
   "execution_count": 11,
   "metadata": {},
   "outputs": [],
   "source": [
    "#The variable sentence stores a string. \n",
    "#Write code to determine how many words in sentence start and end with the same letter, including one-letter words. \n",
    "#Store the result in the variable same_letter_count.\n",
    "\n",
    "sentence = \"students flock to the arb for a variety of outdoor activities such as jogging and picnicking\"\n",
    "sentencelist = sentence.split()\n",
    "same_letter_count = 0\n",
    "for i in sentencelist:\n",
    "    if i[0] ==i[-1]:\n",
    "        same_letter_count +=1\n"
   ]
  },
  {
   "cell_type": "code",
   "execution_count": 15,
   "metadata": {},
   "outputs": [],
   "source": [
    "#Write code to count the number of strings in list items that have the character w in it. \n",
    "#Assign that number to the variable acc_num.\n",
    "\n",
    "#HINT 1: Use the accumulation pattern!\n",
    "\n",
    "#HINT 2: the in operator checks whether a substring is present in a string.\n",
    "\n",
    "items = [\"whirring\", \"wow!\", \"calendar\", \"wry\", \"glass\", \"\", \"llama\",\"tumultuous\",\"owing\"]\n",
    "acc_num = 0 \n",
    "for i in items:\n",
    "    if \"w\" in i:\n",
    "        acc_num+=1\n"
   ]
  },
  {
   "cell_type": "code",
   "execution_count": 26,
   "metadata": {},
   "outputs": [],
   "source": [
    "#Write code that counts the number of words in sentence that contain either an “a” or an “e”. \n",
    "#Store the result in the variable num_a_or_e.\n",
    "\n",
    "#Note 1: be sure to not double-count words that contain both an a and an e.\n",
    "\n",
    "#HINT 1: Use the in operator.\n",
    "\n",
    "#HINT 2: You can either use or or elif.\n",
    "sentence = \"python is a high level general purpose programming language that can be applied to many different classes of problems.\"\n",
    "sentencelist = sentence.split()\n",
    "num_a_or_e = 0\n",
    "num_a_and_e = 0\n",
    "for i in sentencelist:\n",
    "    if (\"a\" in i)  or (\"e\" in i):\n",
    "        num_a_or_e+=1\n",
    "\n",
    "\n",
    "   \n",
    "\n",
    "\n",
    "\n",
    "\n",
    "\n"
   ]
  },
  {
   "cell_type": "code",
   "execution_count": 34,
   "metadata": {},
   "outputs": [],
   "source": [
    "#Write code that will count the number of vowels in the sentence s and assign the result to the variable num_vowels. \n",
    "#For this problem, vowels are only a, e, i, o, and u. \n",
    "#Hint: use the in operator with vowels.\n",
    "\n",
    "s = \"singing in the rain and playing in the rain are two entirely different situations but both can be fun\"\n",
    "vowels = ['a','e','i','o','u']\n",
    "\n",
    "ss=list(s)\n",
    "num_vowels = 0\n",
    "for i in ss:\n",
    "    for y in vowels:\n",
    "        if y in i:\n",
    "            num_vowels+=1"
   ]
  },
  {
   "cell_type": "code",
   "execution_count": 1,
   "metadata": {},
   "outputs": [],
   "source": [
    "s = \"singing in the rain and playing in the rain are two entirely different situations but both can be fun\"\n",
    "vowels = ['a','e','i','o','u']\n",
    "\n",
    "ss=list(s)\n",
    "num_vowels = 0\n",
    "\n",
    "for y in vowels:\n",
    "    for i in ss:\n",
    "        if y in i:\n",
    "            num_vowels+=1"
   ]
  },
  {
   "cell_type": "code",
   "execution_count": 26,
   "metadata": {},
   "outputs": [
    {
     "name": "stdout",
     "output_type": "stream",
     "text": [
      "[67, 80, 90, 78, 93, 20, 79, 89, 96, 97, 92, 88, 79, 68, 58, 90, 98, 100, 79, 74, 83, 88, 80, 86, 85, 70, 90, 100]\n",
      "10\n"
     ]
    }
   ],
   "source": [
    "#Below are a set of scores that students have received in the past semester. \n",
    "#Write code to determine how many are 90 or above and assign that result to the value a_scores.\n",
    "\n",
    "\n",
    "scores = \"67 80 90 78 93 20 79 89 96 97 92 88 79 68 58 90 98 100 79 74 83 88 80 86 85 70 90 100\"\n",
    "newscores = scores.split()\n",
    "for i in range(len(newscores)):\n",
    "   newscores[i]= int (newscores[i])\n",
    "print(newscores)\n",
    "a_scores = 0\n",
    "\n",
    "for y in newscores:\n",
    "   if y >=90:\n",
    "      a_scores+=1\n",
    "\n",
    "print(a_scores)\n",
    "\n"
   ]
  },
  {
   "cell_type": "code",
   "execution_count": 39,
   "metadata": {},
   "outputs": [
    {
     "name": "stdout",
     "output_type": "stream",
     "text": [
      "['O', 'H', 'S', 'E']\n",
      "OHSE\n"
     ]
    }
   ],
   "source": [
    "#Write code that uses the string stored in org and creates an acronym which is assigned to the variable acro. \n",
    "#Only the first letter of each word should be used, each letter in the acronym should be a capital letter, \n",
    "#and there should be nothing to separate the letters of the acronym. \n",
    "#Words that should not be included in the acronym are stored in the list stopwords. \n",
    "#For example, if org was assigned the string “hello to world” then the resulting acronym should be “HW”.\n",
    "\n",
    "stopwords = ['to', 'a', 'for', 'by', 'an', 'am', 'the', 'so', 'it', 'and', \"The\"]\n",
    "org = \"The organization for health, safety, and education\"\n",
    "acro1 = []\n",
    "acro = \"\"\n",
    "new_org = org.split()\n",
    "\n",
    "for i in new_org:\n",
    "    if i not in stopwords:\n",
    "        acro1.append(i[0].upper())\n",
    "\n",
    "for y in acro1:\n",
    "    acro = acro+y\n",
    "\n",
    "print(acro1)\n",
    "print(acro)"
   ]
  },
  {
   "cell_type": "code",
   "execution_count": 47,
   "metadata": {},
   "outputs": [
    {
     "name": "stdout",
     "output_type": "stream",
     "text": [
      "['WA', 'EA', 'AI', 'AR', 'VI']\n",
      "WA. EA. AI. AR. VI\n"
     ]
    }
   ],
   "source": [
    "#Write code that uses the string stored in sent and creates an acronym which is assigned to the variable acro. \n",
    "#The first two letters of each word should be used, each letter in the acronym should be a capital letter, \n",
    "#and each element of the acronym should be separated by a “. ” (dot and space). \n",
    "#Words that should not be included in the acronym are stored in the list stopwords. \n",
    "#For example, if sent was assigned the string “height and ewok wonder” then the resulting acronym should be “HE. EW. WO”.\n",
    "\n",
    "\n",
    "stopwords = ['to', 'a', 'for', 'by', 'an', 'am', 'the', 'so', 'it', 'and', 'The']\n",
    "sent = \"The water earth and air are vital\"\n",
    "\n",
    "acro1 = []\n",
    "acro = \". \"\n",
    "new_sent = sent.split()\n",
    "\n",
    "for i in new_sent:\n",
    "    if i not in stopwords:\n",
    "        acro1.append(i[:2].upper())\n",
    "\n",
    "acro = acro.join(acro1)\n",
    "\n",
    "print(acro1)\n",
    "print(acro)\n",
    "\n"
   ]
  },
  {
   "cell_type": "code",
   "execution_count": 69,
   "metadata": {},
   "outputs": [
    {
     "name": "stdout",
     "output_type": "stream",
     "text": [
      "wasitacaroracatIsaw\n",
      "wasItacaroracatisaw\n",
      "19\n"
     ]
    }
   ],
   "source": [
    "#A palindrome is a phrase that, if reversed, would read the exact same. \n",
    "#Write code that checks if p_phrase is a palindrome by reversing it and \n",
    "#then checking if the reversed version is equal to the original. \n",
    "#Assign the reversed version of p_phrase to the variable r_phrase so that we can check your work.\n",
    "\n",
    "p_phrase = \"was it a car or a cat I saw\"\n",
    "r_phrase = \"\"\n",
    "length = len(p_phrase)\n",
    "for i in range(len(p_phrase)):\n",
    "    r_phrase = r_phrase + p_phrase[len(p_phrase)-1-i]\n",
    "\n",
    "#quick method\n",
    "p_phrase = \"was it a car or a cat I saw\"\n",
    "r_phrase = p_phrase[::-1]\n",
    "print(r_phrase)"
   ]
  },
  {
   "cell_type": "code",
   "execution_count": 91,
   "metadata": {},
   "outputs": [
    {
     "name": "stdout",
     "output_type": "stream",
     "text": [
      "The store has 12 shoes, each for 29.99 USD.\n",
      "The store has 20 shirts, each for 9.99 USD.\n",
      "The store has 25 sweatpants, each for 15.00 USD.\n",
      "The store has 13 scarves, each for 7.75 USD.\n",
      "['scarves', ' 13', ' 7.75']\n"
     ]
    }
   ],
   "source": [
    "#Provided is a list of data about a store’s inventory where each item in the list represents the name of an item, \n",
    "#how much is in stock, and how much it costs. \n",
    "#Print out each item in the list with the same formatting, using the .format method (not string concatenation). \n",
    "#For example, the first print statment should read The store has 12 shoes, each for 29.99 USD.\n",
    "\n",
    "inventory = [\"shoes, 12, 29.99\", \"shirts, 20, 9.99\", \"sweatpants, 25, 15.00\", \"scarves, 13, 7.75\"]\n",
    "for temp in inventory:\n",
    "    temp = temp.split(',')  \n",
    "    item = temp[0]\n",
    "    quantity = temp[1]\n",
    "    amount = temp[2]\n",
    "    str1=\"The store has{} {}, each for{} USD.\"\n",
    "    str1=str1.format(quantity,item,amount)\n",
    "    print(str1)\n",
    "\n",
    "print(temp)"
   ]
  },
  {
   "cell_type": "code",
   "execution_count": null,
   "metadata": {},
   "outputs": [],
   "source": [
    "#Using the file school_prompt2.txt, find the number of characters in the file and assign that value to the variable num_char.\n",
    "fileread = open(\"school_prompt2.txt\", \"r\")\n",
    "content = fileread.read()\n",
    "num_char = len(content)\n"
   ]
  },
  {
   "cell_type": "code",
   "execution_count": null,
   "metadata": {},
   "outputs": [],
   "source": [
    "#Find the number of lines in the file, travel_plans2.txt, and assign it to the variable num_lines.\n",
    "fileread = open(\"travel_plans2.txt\", \"r\")\n",
    "content = fileread.readlines()\n",
    "num_lines = len(content)"
   ]
  },
  {
   "cell_type": "code",
   "execution_count": null,
   "metadata": {},
   "outputs": [],
   "source": [
    "#Create a string called first_forty that is comprised of the first 40 characters of emotion_words2.txt.\n",
    "fileread = open(\"emotion_words.txt\", \"r\")\n",
    "content = fileread.read()\n",
    "first_forty=content[:40]"
   ]
  },
  {
   "cell_type": "code",
   "execution_count": null,
   "metadata": {},
   "outputs": [],
   "source": [
    "#write file\n",
    "filename = \"squared_numbers.txt\"\n",
    "outfile = open(filename, \"w\")\n",
    "\n",
    "for number in range(1, 13):\n",
    "    square = number * number\n",
    "    outfile.write(str(square) + \"\\n\")\n",
    "\n",
    "outfile.close()\n",
    "infile = open(filename, \"r\")\n",
    "print(infile.read()[:10])\n",
    "infile.close()"
   ]
  },
  {
   "cell_type": "code",
   "execution_count": null,
   "metadata": {},
   "outputs": [],
   "source": [
    "#open file using with\n",
    "with open('mydata.txt', 'r') as md:\n",
    "    for line in md:\n",
    "        print(line)\n",
    "\n",
    " #same as below       \n",
    "md = open('mydata.txt', 'r')\n",
    "for line in md:\n",
    "    print(line)\n",
    "md.close()\n",
    "\n",
    "#Other recepies\n",
    "fname = \"yourfile.txt\"\n",
    "with open(fname, 'r') as fileref:         # step 1\n",
    "    lines = fileref.readlines()           # step 2\n",
    "    for lin in lines:                     # step 3\n",
    "        #some code that references the variable lin\n",
    "#some other code not relying on fileref   # step 4"
   ]
  },
  {
   "cell_type": "code",
   "execution_count": null,
   "metadata": {},
   "outputs": [],
   "source": [
    "#Write CSV data examples for bewlow\n",
    "olympians = [(\"John Aalberg\", 31, \"Cross Country Skiing\"),\n",
    "             (\"Minna Maarit Aalto\", 30, \"Sailing\"),\n",
    "             (\"Win Valdemar Aaltonen\", 54, \"Art Competitions\"),\n",
    "             (\"Wakako Abe\", 18, \"Cycling\")]\n",
    "\n",
    "outfile = open(\"reduced_olympics.csv\", \"w\")\n",
    "# output the header row\n",
    "outfile.write('Name,Age,Sport')\n",
    "outfile.write('\\n')\n",
    "# output each of the rows:\n",
    "for olympian in olympians:\n",
    "    row_string = '{},{},{}'.format(olympian[0], olympian[1], olympian[2])\n",
    "    outfile.write(row_string)\n",
    "    outfile.write('\\n')\n",
    "outfile.close()"
   ]
  }
 ],
 "metadata": {
  "kernelspec": {
   "display_name": ".venv",
   "language": "python",
   "name": "python3"
  },
  "language_info": {
   "codemirror_mode": {
    "name": "ipython",
    "version": 3
   },
   "file_extension": ".py",
   "mimetype": "text/x-python",
   "name": "python",
   "nbconvert_exporter": "python",
   "pygments_lexer": "ipython3",
   "version": "3.9.6"
  }
 },
 "nbformat": 4,
 "nbformat_minor": 2
}
